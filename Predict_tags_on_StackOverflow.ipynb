{
  "nbformat": 4,
  "nbformat_minor": 0,
  "metadata": {
    "kernelspec": {
      "display_name": "Python 3",
      "language": "python",
      "name": "python3"
    },
    "language_info": {
      "codemirror_mode": {
        "name": "ipython",
        "version": 3
      },
      "file_extension": ".py",
      "mimetype": "text/x-python",
      "name": "python",
      "nbconvert_exporter": "python",
      "pygments_lexer": "ipython3",
      "version": "3.4.3"
    },
    "colab": {
      "name": "Predict tags on StackOverflow.ipynb",
      "provenance": [],
      "collapsed_sections": [
        "TfAkh5AkjhEu",
        "5kbvYK9HjhFK",
        "ss9NUCvKjhFd",
        "XW_ohD7MjhGE",
        "PLiC7CwPjhGz"
      ],
      "include_colab_link": true
    },
    "widgets": {
      "application/vnd.jupyter.widget-state+json": {
        "037e99105db3423ab473c751bcacba79": {
          "model_module": "@jupyter-widgets/controls",
          "model_name": "HBoxModel",
          "state": {
            "_view_name": "HBoxView",
            "_dom_classes": [],
            "_model_name": "HBoxModel",
            "_view_module": "@jupyter-widgets/controls",
            "_model_module_version": "1.5.0",
            "_view_count": null,
            "_view_module_version": "1.5.0",
            "box_style": "",
            "layout": "IPY_MODEL_d0437c8ac2314f85934f23f9494fdda8",
            "_model_module": "@jupyter-widgets/controls",
            "children": [
              "IPY_MODEL_8a82296bc6494323925d51c76925a20f",
              "IPY_MODEL_ab006de3170645d693011e64cbe3e410",
              "IPY_MODEL_0a91d45e2f4d4384b29f13e21b5d58b8"
            ]
          }
        },
        "d0437c8ac2314f85934f23f9494fdda8": {
          "model_module": "@jupyter-widgets/base",
          "model_name": "LayoutModel",
          "state": {
            "_view_name": "LayoutView",
            "grid_template_rows": null,
            "right": null,
            "justify_content": null,
            "_view_module": "@jupyter-widgets/base",
            "overflow": null,
            "_model_module_version": "1.2.0",
            "_view_count": null,
            "flex_flow": null,
            "width": null,
            "min_width": null,
            "border": null,
            "align_items": null,
            "bottom": null,
            "_model_module": "@jupyter-widgets/base",
            "top": null,
            "grid_column": null,
            "overflow_y": null,
            "overflow_x": null,
            "grid_auto_flow": null,
            "grid_area": null,
            "grid_template_columns": null,
            "flex": null,
            "_model_name": "LayoutModel",
            "justify_items": null,
            "grid_row": null,
            "max_height": null,
            "align_content": null,
            "visibility": null,
            "align_self": null,
            "height": null,
            "min_height": null,
            "padding": null,
            "grid_auto_rows": null,
            "grid_gap": null,
            "max_width": null,
            "order": null,
            "_view_module_version": "1.2.0",
            "grid_template_areas": null,
            "object_position": null,
            "object_fit": null,
            "grid_auto_columns": null,
            "margin": null,
            "display": null,
            "left": null
          }
        },
        "8a82296bc6494323925d51c76925a20f": {
          "model_module": "@jupyter-widgets/controls",
          "model_name": "HTMLModel",
          "state": {
            "_view_name": "HTMLView",
            "style": "IPY_MODEL_f08010a5e937488f850ec07fad9570f1",
            "_dom_classes": [],
            "description": "",
            "_model_name": "HTMLModel",
            "placeholder": "​",
            "_view_module": "@jupyter-widgets/controls",
            "_model_module_version": "1.5.0",
            "value": "train.tsv: 100%",
            "_view_count": null,
            "_view_module_version": "1.5.0",
            "description_tooltip": null,
            "_model_module": "@jupyter-widgets/controls",
            "layout": "IPY_MODEL_2957cec37b8545089ca8bbdab173ed84"
          }
        },
        "ab006de3170645d693011e64cbe3e410": {
          "model_module": "@jupyter-widgets/controls",
          "model_name": "FloatProgressModel",
          "state": {
            "_view_name": "ProgressView",
            "style": "IPY_MODEL_766f015df3ea4873b73fe91007021a9b",
            "_dom_classes": [],
            "description": "",
            "_model_name": "FloatProgressModel",
            "bar_style": "success",
            "max": 7196138,
            "_view_module": "@jupyter-widgets/controls",
            "_model_module_version": "1.5.0",
            "value": 7196138,
            "_view_count": null,
            "_view_module_version": "1.5.0",
            "orientation": "horizontal",
            "min": 0,
            "description_tooltip": null,
            "_model_module": "@jupyter-widgets/controls",
            "layout": "IPY_MODEL_e3f58ab1948b408fa2f357d7496a6d17"
          }
        },
        "0a91d45e2f4d4384b29f13e21b5d58b8": {
          "model_module": "@jupyter-widgets/controls",
          "model_name": "HTMLModel",
          "state": {
            "_view_name": "HTMLView",
            "style": "IPY_MODEL_ab391514580246b4b992e6261dd029d8",
            "_dom_classes": [],
            "description": "",
            "_model_name": "HTMLModel",
            "placeholder": "​",
            "_view_module": "@jupyter-widgets/controls",
            "_model_module_version": "1.5.0",
            "value": " 7.20M/7.20M [00:00&lt;00:00, 9.43MB/s]",
            "_view_count": null,
            "_view_module_version": "1.5.0",
            "description_tooltip": null,
            "_model_module": "@jupyter-widgets/controls",
            "layout": "IPY_MODEL_4bfbedbb8508481d9114424ec716f50a"
          }
        },
        "f08010a5e937488f850ec07fad9570f1": {
          "model_module": "@jupyter-widgets/controls",
          "model_name": "DescriptionStyleModel",
          "state": {
            "_view_name": "StyleView",
            "_model_name": "DescriptionStyleModel",
            "description_width": "",
            "_view_module": "@jupyter-widgets/base",
            "_model_module_version": "1.5.0",
            "_view_count": null,
            "_view_module_version": "1.2.0",
            "_model_module": "@jupyter-widgets/controls"
          }
        },
        "2957cec37b8545089ca8bbdab173ed84": {
          "model_module": "@jupyter-widgets/base",
          "model_name": "LayoutModel",
          "state": {
            "_view_name": "LayoutView",
            "grid_template_rows": null,
            "right": null,
            "justify_content": null,
            "_view_module": "@jupyter-widgets/base",
            "overflow": null,
            "_model_module_version": "1.2.0",
            "_view_count": null,
            "flex_flow": null,
            "width": null,
            "min_width": null,
            "border": null,
            "align_items": null,
            "bottom": null,
            "_model_module": "@jupyter-widgets/base",
            "top": null,
            "grid_column": null,
            "overflow_y": null,
            "overflow_x": null,
            "grid_auto_flow": null,
            "grid_area": null,
            "grid_template_columns": null,
            "flex": null,
            "_model_name": "LayoutModel",
            "justify_items": null,
            "grid_row": null,
            "max_height": null,
            "align_content": null,
            "visibility": null,
            "align_self": null,
            "height": null,
            "min_height": null,
            "padding": null,
            "grid_auto_rows": null,
            "grid_gap": null,
            "max_width": null,
            "order": null,
            "_view_module_version": "1.2.0",
            "grid_template_areas": null,
            "object_position": null,
            "object_fit": null,
            "grid_auto_columns": null,
            "margin": null,
            "display": null,
            "left": null
          }
        },
        "766f015df3ea4873b73fe91007021a9b": {
          "model_module": "@jupyter-widgets/controls",
          "model_name": "ProgressStyleModel",
          "state": {
            "_view_name": "StyleView",
            "_model_name": "ProgressStyleModel",
            "description_width": "",
            "_view_module": "@jupyter-widgets/base",
            "_model_module_version": "1.5.0",
            "_view_count": null,
            "_view_module_version": "1.2.0",
            "bar_color": null,
            "_model_module": "@jupyter-widgets/controls"
          }
        },
        "e3f58ab1948b408fa2f357d7496a6d17": {
          "model_module": "@jupyter-widgets/base",
          "model_name": "LayoutModel",
          "state": {
            "_view_name": "LayoutView",
            "grid_template_rows": null,
            "right": null,
            "justify_content": null,
            "_view_module": "@jupyter-widgets/base",
            "overflow": null,
            "_model_module_version": "1.2.0",
            "_view_count": null,
            "flex_flow": null,
            "width": null,
            "min_width": null,
            "border": null,
            "align_items": null,
            "bottom": null,
            "_model_module": "@jupyter-widgets/base",
            "top": null,
            "grid_column": null,
            "overflow_y": null,
            "overflow_x": null,
            "grid_auto_flow": null,
            "grid_area": null,
            "grid_template_columns": null,
            "flex": null,
            "_model_name": "LayoutModel",
            "justify_items": null,
            "grid_row": null,
            "max_height": null,
            "align_content": null,
            "visibility": null,
            "align_self": null,
            "height": null,
            "min_height": null,
            "padding": null,
            "grid_auto_rows": null,
            "grid_gap": null,
            "max_width": null,
            "order": null,
            "_view_module_version": "1.2.0",
            "grid_template_areas": null,
            "object_position": null,
            "object_fit": null,
            "grid_auto_columns": null,
            "margin": null,
            "display": null,
            "left": null
          }
        },
        "ab391514580246b4b992e6261dd029d8": {
          "model_module": "@jupyter-widgets/controls",
          "model_name": "DescriptionStyleModel",
          "state": {
            "_view_name": "StyleView",
            "_model_name": "DescriptionStyleModel",
            "description_width": "",
            "_view_module": "@jupyter-widgets/base",
            "_model_module_version": "1.5.0",
            "_view_count": null,
            "_view_module_version": "1.2.0",
            "_model_module": "@jupyter-widgets/controls"
          }
        },
        "4bfbedbb8508481d9114424ec716f50a": {
          "model_module": "@jupyter-widgets/base",
          "model_name": "LayoutModel",
          "state": {
            "_view_name": "LayoutView",
            "grid_template_rows": null,
            "right": null,
            "justify_content": null,
            "_view_module": "@jupyter-widgets/base",
            "overflow": null,
            "_model_module_version": "1.2.0",
            "_view_count": null,
            "flex_flow": null,
            "width": null,
            "min_width": null,
            "border": null,
            "align_items": null,
            "bottom": null,
            "_model_module": "@jupyter-widgets/base",
            "top": null,
            "grid_column": null,
            "overflow_y": null,
            "overflow_x": null,
            "grid_auto_flow": null,
            "grid_area": null,
            "grid_template_columns": null,
            "flex": null,
            "_model_name": "LayoutModel",
            "justify_items": null,
            "grid_row": null,
            "max_height": null,
            "align_content": null,
            "visibility": null,
            "align_self": null,
            "height": null,
            "min_height": null,
            "padding": null,
            "grid_auto_rows": null,
            "grid_gap": null,
            "max_width": null,
            "order": null,
            "_view_module_version": "1.2.0",
            "grid_template_areas": null,
            "object_position": null,
            "object_fit": null,
            "grid_auto_columns": null,
            "margin": null,
            "display": null,
            "left": null
          }
        },
        "3e33a5e0b7274d74ac97452b53b24b5a": {
          "model_module": "@jupyter-widgets/controls",
          "model_name": "HBoxModel",
          "state": {
            "_view_name": "HBoxView",
            "_dom_classes": [],
            "_model_name": "HBoxModel",
            "_view_module": "@jupyter-widgets/controls",
            "_model_module_version": "1.5.0",
            "_view_count": null,
            "_view_module_version": "1.5.0",
            "box_style": "",
            "layout": "IPY_MODEL_ac0b1263a4334b10901fbb2d9bf1351d",
            "_model_module": "@jupyter-widgets/controls",
            "children": [
              "IPY_MODEL_7507188aa4a446d6b2b5298efe67e73b",
              "IPY_MODEL_9975fefeefff4c8b82e19ef0f9b294cc",
              "IPY_MODEL_9591ddd6ffb24ea1b38d9f687a3fd866"
            ]
          }
        },
        "ac0b1263a4334b10901fbb2d9bf1351d": {
          "model_module": "@jupyter-widgets/base",
          "model_name": "LayoutModel",
          "state": {
            "_view_name": "LayoutView",
            "grid_template_rows": null,
            "right": null,
            "justify_content": null,
            "_view_module": "@jupyter-widgets/base",
            "overflow": null,
            "_model_module_version": "1.2.0",
            "_view_count": null,
            "flex_flow": null,
            "width": null,
            "min_width": null,
            "border": null,
            "align_items": null,
            "bottom": null,
            "_model_module": "@jupyter-widgets/base",
            "top": null,
            "grid_column": null,
            "overflow_y": null,
            "overflow_x": null,
            "grid_auto_flow": null,
            "grid_area": null,
            "grid_template_columns": null,
            "flex": null,
            "_model_name": "LayoutModel",
            "justify_items": null,
            "grid_row": null,
            "max_height": null,
            "align_content": null,
            "visibility": null,
            "align_self": null,
            "height": null,
            "min_height": null,
            "padding": null,
            "grid_auto_rows": null,
            "grid_gap": null,
            "max_width": null,
            "order": null,
            "_view_module_version": "1.2.0",
            "grid_template_areas": null,
            "object_position": null,
            "object_fit": null,
            "grid_auto_columns": null,
            "margin": null,
            "display": null,
            "left": null
          }
        },
        "7507188aa4a446d6b2b5298efe67e73b": {
          "model_module": "@jupyter-widgets/controls",
          "model_name": "HTMLModel",
          "state": {
            "_view_name": "HTMLView",
            "style": "IPY_MODEL_d48daeb1376e49078f0f8c55343f763d",
            "_dom_classes": [],
            "description": "",
            "_model_name": "HTMLModel",
            "placeholder": "​",
            "_view_module": "@jupyter-widgets/controls",
            "_model_module_version": "1.5.0",
            "value": "validation.tsv: 100%",
            "_view_count": null,
            "_view_module_version": "1.5.0",
            "description_tooltip": null,
            "_model_module": "@jupyter-widgets/controls",
            "layout": "IPY_MODEL_ecdffdb0f7d145be9a0f1cc248f0f615"
          }
        },
        "9975fefeefff4c8b82e19ef0f9b294cc": {
          "model_module": "@jupyter-widgets/controls",
          "model_name": "FloatProgressModel",
          "state": {
            "_view_name": "ProgressView",
            "style": "IPY_MODEL_5260ff1cfc24471bbcdd505d64f7e24a",
            "_dom_classes": [],
            "description": "",
            "_model_name": "FloatProgressModel",
            "bar_style": "success",
            "max": 2166270,
            "_view_module": "@jupyter-widgets/controls",
            "_model_module_version": "1.5.0",
            "value": 2166270,
            "_view_count": null,
            "_view_module_version": "1.5.0",
            "orientation": "horizontal",
            "min": 0,
            "description_tooltip": null,
            "_model_module": "@jupyter-widgets/controls",
            "layout": "IPY_MODEL_175e8f88f1a846949dc3494d4341567e"
          }
        },
        "9591ddd6ffb24ea1b38d9f687a3fd866": {
          "model_module": "@jupyter-widgets/controls",
          "model_name": "HTMLModel",
          "state": {
            "_view_name": "HTMLView",
            "style": "IPY_MODEL_dfc899bf1aec4f2697e29e2497a5139a",
            "_dom_classes": [],
            "description": "",
            "_model_name": "HTMLModel",
            "placeholder": "​",
            "_view_module": "@jupyter-widgets/controls",
            "_model_module_version": "1.5.0",
            "value": " 2.17M/2.17M [00:00&lt;00:00, 2.44MB/s]",
            "_view_count": null,
            "_view_module_version": "1.5.0",
            "description_tooltip": null,
            "_model_module": "@jupyter-widgets/controls",
            "layout": "IPY_MODEL_630dc351dc234c39bea818dd584d1456"
          }
        },
        "d48daeb1376e49078f0f8c55343f763d": {
          "model_module": "@jupyter-widgets/controls",
          "model_name": "DescriptionStyleModel",
          "state": {
            "_view_name": "StyleView",
            "_model_name": "DescriptionStyleModel",
            "description_width": "",
            "_view_module": "@jupyter-widgets/base",
            "_model_module_version": "1.5.0",
            "_view_count": null,
            "_view_module_version": "1.2.0",
            "_model_module": "@jupyter-widgets/controls"
          }
        },
        "ecdffdb0f7d145be9a0f1cc248f0f615": {
          "model_module": "@jupyter-widgets/base",
          "model_name": "LayoutModel",
          "state": {
            "_view_name": "LayoutView",
            "grid_template_rows": null,
            "right": null,
            "justify_content": null,
            "_view_module": "@jupyter-widgets/base",
            "overflow": null,
            "_model_module_version": "1.2.0",
            "_view_count": null,
            "flex_flow": null,
            "width": null,
            "min_width": null,
            "border": null,
            "align_items": null,
            "bottom": null,
            "_model_module": "@jupyter-widgets/base",
            "top": null,
            "grid_column": null,
            "overflow_y": null,
            "overflow_x": null,
            "grid_auto_flow": null,
            "grid_area": null,
            "grid_template_columns": null,
            "flex": null,
            "_model_name": "LayoutModel",
            "justify_items": null,
            "grid_row": null,
            "max_height": null,
            "align_content": null,
            "visibility": null,
            "align_self": null,
            "height": null,
            "min_height": null,
            "padding": null,
            "grid_auto_rows": null,
            "grid_gap": null,
            "max_width": null,
            "order": null,
            "_view_module_version": "1.2.0",
            "grid_template_areas": null,
            "object_position": null,
            "object_fit": null,
            "grid_auto_columns": null,
            "margin": null,
            "display": null,
            "left": null
          }
        },
        "5260ff1cfc24471bbcdd505d64f7e24a": {
          "model_module": "@jupyter-widgets/controls",
          "model_name": "ProgressStyleModel",
          "state": {
            "_view_name": "StyleView",
            "_model_name": "ProgressStyleModel",
            "description_width": "",
            "_view_module": "@jupyter-widgets/base",
            "_model_module_version": "1.5.0",
            "_view_count": null,
            "_view_module_version": "1.2.0",
            "bar_color": null,
            "_model_module": "@jupyter-widgets/controls"
          }
        },
        "175e8f88f1a846949dc3494d4341567e": {
          "model_module": "@jupyter-widgets/base",
          "model_name": "LayoutModel",
          "state": {
            "_view_name": "LayoutView",
            "grid_template_rows": null,
            "right": null,
            "justify_content": null,
            "_view_module": "@jupyter-widgets/base",
            "overflow": null,
            "_model_module_version": "1.2.0",
            "_view_count": null,
            "flex_flow": null,
            "width": null,
            "min_width": null,
            "border": null,
            "align_items": null,
            "bottom": null,
            "_model_module": "@jupyter-widgets/base",
            "top": null,
            "grid_column": null,
            "overflow_y": null,
            "overflow_x": null,
            "grid_auto_flow": null,
            "grid_area": null,
            "grid_template_columns": null,
            "flex": null,
            "_model_name": "LayoutModel",
            "justify_items": null,
            "grid_row": null,
            "max_height": null,
            "align_content": null,
            "visibility": null,
            "align_self": null,
            "height": null,
            "min_height": null,
            "padding": null,
            "grid_auto_rows": null,
            "grid_gap": null,
            "max_width": null,
            "order": null,
            "_view_module_version": "1.2.0",
            "grid_template_areas": null,
            "object_position": null,
            "object_fit": null,
            "grid_auto_columns": null,
            "margin": null,
            "display": null,
            "left": null
          }
        },
        "dfc899bf1aec4f2697e29e2497a5139a": {
          "model_module": "@jupyter-widgets/controls",
          "model_name": "DescriptionStyleModel",
          "state": {
            "_view_name": "StyleView",
            "_model_name": "DescriptionStyleModel",
            "description_width": "",
            "_view_module": "@jupyter-widgets/base",
            "_model_module_version": "1.5.0",
            "_view_count": null,
            "_view_module_version": "1.2.0",
            "_model_module": "@jupyter-widgets/controls"
          }
        },
        "630dc351dc234c39bea818dd584d1456": {
          "model_module": "@jupyter-widgets/base",
          "model_name": "LayoutModel",
          "state": {
            "_view_name": "LayoutView",
            "grid_template_rows": null,
            "right": null,
            "justify_content": null,
            "_view_module": "@jupyter-widgets/base",
            "overflow": null,
            "_model_module_version": "1.2.0",
            "_view_count": null,
            "flex_flow": null,
            "width": null,
            "min_width": null,
            "border": null,
            "align_items": null,
            "bottom": null,
            "_model_module": "@jupyter-widgets/base",
            "top": null,
            "grid_column": null,
            "overflow_y": null,
            "overflow_x": null,
            "grid_auto_flow": null,
            "grid_area": null,
            "grid_template_columns": null,
            "flex": null,
            "_model_name": "LayoutModel",
            "justify_items": null,
            "grid_row": null,
            "max_height": null,
            "align_content": null,
            "visibility": null,
            "align_self": null,
            "height": null,
            "min_height": null,
            "padding": null,
            "grid_auto_rows": null,
            "grid_gap": null,
            "max_width": null,
            "order": null,
            "_view_module_version": "1.2.0",
            "grid_template_areas": null,
            "object_position": null,
            "object_fit": null,
            "grid_auto_columns": null,
            "margin": null,
            "display": null,
            "left": null
          }
        },
        "fc8cc20eb9e3466a8a92d39ab1a87119": {
          "model_module": "@jupyter-widgets/controls",
          "model_name": "HBoxModel",
          "state": {
            "_view_name": "HBoxView",
            "_dom_classes": [],
            "_model_name": "HBoxModel",
            "_view_module": "@jupyter-widgets/controls",
            "_model_module_version": "1.5.0",
            "_view_count": null,
            "_view_module_version": "1.5.0",
            "box_style": "",
            "layout": "IPY_MODEL_62e105f998b344bdbde9faa7e78c7ac6",
            "_model_module": "@jupyter-widgets/controls",
            "children": [
              "IPY_MODEL_5c56d109efbd47b4b00a120e83c008fb",
              "IPY_MODEL_7f5a3891fb3640b7b1ae4fa410a36b06",
              "IPY_MODEL_dd1a98c534144db7a709b327f421b5ca"
            ]
          }
        },
        "62e105f998b344bdbde9faa7e78c7ac6": {
          "model_module": "@jupyter-widgets/base",
          "model_name": "LayoutModel",
          "state": {
            "_view_name": "LayoutView",
            "grid_template_rows": null,
            "right": null,
            "justify_content": null,
            "_view_module": "@jupyter-widgets/base",
            "overflow": null,
            "_model_module_version": "1.2.0",
            "_view_count": null,
            "flex_flow": null,
            "width": null,
            "min_width": null,
            "border": null,
            "align_items": null,
            "bottom": null,
            "_model_module": "@jupyter-widgets/base",
            "top": null,
            "grid_column": null,
            "overflow_y": null,
            "overflow_x": null,
            "grid_auto_flow": null,
            "grid_area": null,
            "grid_template_columns": null,
            "flex": null,
            "_model_name": "LayoutModel",
            "justify_items": null,
            "grid_row": null,
            "max_height": null,
            "align_content": null,
            "visibility": null,
            "align_self": null,
            "height": null,
            "min_height": null,
            "padding": null,
            "grid_auto_rows": null,
            "grid_gap": null,
            "max_width": null,
            "order": null,
            "_view_module_version": "1.2.0",
            "grid_template_areas": null,
            "object_position": null,
            "object_fit": null,
            "grid_auto_columns": null,
            "margin": null,
            "display": null,
            "left": null
          }
        },
        "5c56d109efbd47b4b00a120e83c008fb": {
          "model_module": "@jupyter-widgets/controls",
          "model_name": "HTMLModel",
          "state": {
            "_view_name": "HTMLView",
            "style": "IPY_MODEL_5e85e0c129434dc68d048d1b78f723f8",
            "_dom_classes": [],
            "description": "",
            "_model_name": "HTMLModel",
            "placeholder": "​",
            "_view_module": "@jupyter-widgets/controls",
            "_model_module_version": "1.5.0",
            "value": "test.tsv: 100%",
            "_view_count": null,
            "_view_module_version": "1.5.0",
            "description_tooltip": null,
            "_model_module": "@jupyter-widgets/controls",
            "layout": "IPY_MODEL_3b9fe7c421a144e4a4e2a9a79f3eaa93"
          }
        },
        "7f5a3891fb3640b7b1ae4fa410a36b06": {
          "model_module": "@jupyter-widgets/controls",
          "model_name": "FloatProgressModel",
          "state": {
            "_view_name": "ProgressView",
            "style": "IPY_MODEL_f993a9f9dabc4f15a0597f5076a8d561",
            "_dom_classes": [],
            "description": "",
            "_model_name": "FloatProgressModel",
            "bar_style": "success",
            "max": 1041379,
            "_view_module": "@jupyter-widgets/controls",
            "_model_module_version": "1.5.0",
            "value": 1041379,
            "_view_count": null,
            "_view_module_version": "1.5.0",
            "orientation": "horizontal",
            "min": 0,
            "description_tooltip": null,
            "_model_module": "@jupyter-widgets/controls",
            "layout": "IPY_MODEL_d8bdea066eae4036b4c158d1d78cb7f2"
          }
        },
        "dd1a98c534144db7a709b327f421b5ca": {
          "model_module": "@jupyter-widgets/controls",
          "model_name": "HTMLModel",
          "state": {
            "_view_name": "HTMLView",
            "style": "IPY_MODEL_4fda1d16859a4f36b8ff459295348c9b",
            "_dom_classes": [],
            "description": "",
            "_model_name": "HTMLModel",
            "placeholder": "​",
            "_view_module": "@jupyter-widgets/controls",
            "_model_module_version": "1.5.0",
            "value": " 1.04M/1.04M [00:00&lt;00:00, 2.23MB/s]",
            "_view_count": null,
            "_view_module_version": "1.5.0",
            "description_tooltip": null,
            "_model_module": "@jupyter-widgets/controls",
            "layout": "IPY_MODEL_71b6c17d039a4869a2b2e9e02bd4e109"
          }
        },
        "5e85e0c129434dc68d048d1b78f723f8": {
          "model_module": "@jupyter-widgets/controls",
          "model_name": "DescriptionStyleModel",
          "state": {
            "_view_name": "StyleView",
            "_model_name": "DescriptionStyleModel",
            "description_width": "",
            "_view_module": "@jupyter-widgets/base",
            "_model_module_version": "1.5.0",
            "_view_count": null,
            "_view_module_version": "1.2.0",
            "_model_module": "@jupyter-widgets/controls"
          }
        },
        "3b9fe7c421a144e4a4e2a9a79f3eaa93": {
          "model_module": "@jupyter-widgets/base",
          "model_name": "LayoutModel",
          "state": {
            "_view_name": "LayoutView",
            "grid_template_rows": null,
            "right": null,
            "justify_content": null,
            "_view_module": "@jupyter-widgets/base",
            "overflow": null,
            "_model_module_version": "1.2.0",
            "_view_count": null,
            "flex_flow": null,
            "width": null,
            "min_width": null,
            "border": null,
            "align_items": null,
            "bottom": null,
            "_model_module": "@jupyter-widgets/base",
            "top": null,
            "grid_column": null,
            "overflow_y": null,
            "overflow_x": null,
            "grid_auto_flow": null,
            "grid_area": null,
            "grid_template_columns": null,
            "flex": null,
            "_model_name": "LayoutModel",
            "justify_items": null,
            "grid_row": null,
            "max_height": null,
            "align_content": null,
            "visibility": null,
            "align_self": null,
            "height": null,
            "min_height": null,
            "padding": null,
            "grid_auto_rows": null,
            "grid_gap": null,
            "max_width": null,
            "order": null,
            "_view_module_version": "1.2.0",
            "grid_template_areas": null,
            "object_position": null,
            "object_fit": null,
            "grid_auto_columns": null,
            "margin": null,
            "display": null,
            "left": null
          }
        },
        "f993a9f9dabc4f15a0597f5076a8d561": {
          "model_module": "@jupyter-widgets/controls",
          "model_name": "ProgressStyleModel",
          "state": {
            "_view_name": "StyleView",
            "_model_name": "ProgressStyleModel",
            "description_width": "",
            "_view_module": "@jupyter-widgets/base",
            "_model_module_version": "1.5.0",
            "_view_count": null,
            "_view_module_version": "1.2.0",
            "bar_color": null,
            "_model_module": "@jupyter-widgets/controls"
          }
        },
        "d8bdea066eae4036b4c158d1d78cb7f2": {
          "model_module": "@jupyter-widgets/base",
          "model_name": "LayoutModel",
          "state": {
            "_view_name": "LayoutView",
            "grid_template_rows": null,
            "right": null,
            "justify_content": null,
            "_view_module": "@jupyter-widgets/base",
            "overflow": null,
            "_model_module_version": "1.2.0",
            "_view_count": null,
            "flex_flow": null,
            "width": null,
            "min_width": null,
            "border": null,
            "align_items": null,
            "bottom": null,
            "_model_module": "@jupyter-widgets/base",
            "top": null,
            "grid_column": null,
            "overflow_y": null,
            "overflow_x": null,
            "grid_auto_flow": null,
            "grid_area": null,
            "grid_template_columns": null,
            "flex": null,
            "_model_name": "LayoutModel",
            "justify_items": null,
            "grid_row": null,
            "max_height": null,
            "align_content": null,
            "visibility": null,
            "align_self": null,
            "height": null,
            "min_height": null,
            "padding": null,
            "grid_auto_rows": null,
            "grid_gap": null,
            "max_width": null,
            "order": null,
            "_view_module_version": "1.2.0",
            "grid_template_areas": null,
            "object_position": null,
            "object_fit": null,
            "grid_auto_columns": null,
            "margin": null,
            "display": null,
            "left": null
          }
        },
        "4fda1d16859a4f36b8ff459295348c9b": {
          "model_module": "@jupyter-widgets/controls",
          "model_name": "DescriptionStyleModel",
          "state": {
            "_view_name": "StyleView",
            "_model_name": "DescriptionStyleModel",
            "description_width": "",
            "_view_module": "@jupyter-widgets/base",
            "_model_module_version": "1.5.0",
            "_view_count": null,
            "_view_module_version": "1.2.0",
            "_model_module": "@jupyter-widgets/controls"
          }
        },
        "71b6c17d039a4869a2b2e9e02bd4e109": {
          "model_module": "@jupyter-widgets/base",
          "model_name": "LayoutModel",
          "state": {
            "_view_name": "LayoutView",
            "grid_template_rows": null,
            "right": null,
            "justify_content": null,
            "_view_module": "@jupyter-widgets/base",
            "overflow": null,
            "_model_module_version": "1.2.0",
            "_view_count": null,
            "flex_flow": null,
            "width": null,
            "min_width": null,
            "border": null,
            "align_items": null,
            "bottom": null,
            "_model_module": "@jupyter-widgets/base",
            "top": null,
            "grid_column": null,
            "overflow_y": null,
            "overflow_x": null,
            "grid_auto_flow": null,
            "grid_area": null,
            "grid_template_columns": null,
            "flex": null,
            "_model_name": "LayoutModel",
            "justify_items": null,
            "grid_row": null,
            "max_height": null,
            "align_content": null,
            "visibility": null,
            "align_self": null,
            "height": null,
            "min_height": null,
            "padding": null,
            "grid_auto_rows": null,
            "grid_gap": null,
            "max_width": null,
            "order": null,
            "_view_module_version": "1.2.0",
            "grid_template_areas": null,
            "object_position": null,
            "object_fit": null,
            "grid_auto_columns": null,
            "margin": null,
            "display": null,
            "left": null
          }
        },
        "aad4daa295f44762be73a8354e8bc9ea": {
          "model_module": "@jupyter-widgets/controls",
          "model_name": "HBoxModel",
          "state": {
            "_view_name": "HBoxView",
            "_dom_classes": [],
            "_model_name": "HBoxModel",
            "_view_module": "@jupyter-widgets/controls",
            "_model_module_version": "1.5.0",
            "_view_count": null,
            "_view_module_version": "1.5.0",
            "box_style": "",
            "layout": "IPY_MODEL_796166cab6e74c61a6480f15cb61551c",
            "_model_module": "@jupyter-widgets/controls",
            "children": [
              "IPY_MODEL_6669a8a136ce4e8a9cbca7c40504eacb",
              "IPY_MODEL_86a8d164a9af4f9490bd60b9c2ae88f8",
              "IPY_MODEL_bf9b5bf4a5324818aee8efd4b47d0c4a"
            ]
          }
        },
        "796166cab6e74c61a6480f15cb61551c": {
          "model_module": "@jupyter-widgets/base",
          "model_name": "LayoutModel",
          "state": {
            "_view_name": "LayoutView",
            "grid_template_rows": null,
            "right": null,
            "justify_content": null,
            "_view_module": "@jupyter-widgets/base",
            "overflow": null,
            "_model_module_version": "1.2.0",
            "_view_count": null,
            "flex_flow": null,
            "width": null,
            "min_width": null,
            "border": null,
            "align_items": null,
            "bottom": null,
            "_model_module": "@jupyter-widgets/base",
            "top": null,
            "grid_column": null,
            "overflow_y": null,
            "overflow_x": null,
            "grid_auto_flow": null,
            "grid_area": null,
            "grid_template_columns": null,
            "flex": null,
            "_model_name": "LayoutModel",
            "justify_items": null,
            "grid_row": null,
            "max_height": null,
            "align_content": null,
            "visibility": null,
            "align_self": null,
            "height": null,
            "min_height": null,
            "padding": null,
            "grid_auto_rows": null,
            "grid_gap": null,
            "max_width": null,
            "order": null,
            "_view_module_version": "1.2.0",
            "grid_template_areas": null,
            "object_position": null,
            "object_fit": null,
            "grid_auto_columns": null,
            "margin": null,
            "display": null,
            "left": null
          }
        },
        "6669a8a136ce4e8a9cbca7c40504eacb": {
          "model_module": "@jupyter-widgets/controls",
          "model_name": "HTMLModel",
          "state": {
            "_view_name": "HTMLView",
            "style": "IPY_MODEL_8478a99bcfdd4bd08a97f416ccb1aeec",
            "_dom_classes": [],
            "description": "",
            "_model_name": "HTMLModel",
            "placeholder": "​",
            "_view_module": "@jupyter-widgets/controls",
            "_model_module_version": "1.5.0",
            "value": "text_prepare_tests.tsv: 100%",
            "_view_count": null,
            "_view_module_version": "1.5.0",
            "description_tooltip": null,
            "_model_module": "@jupyter-widgets/controls",
            "layout": "IPY_MODEL_9d80fe1352264004847c6d60d206e205"
          }
        },
        "86a8d164a9af4f9490bd60b9c2ae88f8": {
          "model_module": "@jupyter-widgets/controls",
          "model_name": "FloatProgressModel",
          "state": {
            "_view_name": "ProgressView",
            "style": "IPY_MODEL_5ad637cdce4948ba8f9928683aba561c",
            "_dom_classes": [],
            "description": "",
            "_model_name": "FloatProgressModel",
            "bar_style": "success",
            "max": 5091,
            "_view_module": "@jupyter-widgets/controls",
            "_model_module_version": "1.5.0",
            "value": 5091,
            "_view_count": null,
            "_view_module_version": "1.5.0",
            "orientation": "horizontal",
            "min": 0,
            "description_tooltip": null,
            "_model_module": "@jupyter-widgets/controls",
            "layout": "IPY_MODEL_4a42e2f396a74b22a34e1b329a408239"
          }
        },
        "bf9b5bf4a5324818aee8efd4b47d0c4a": {
          "model_module": "@jupyter-widgets/controls",
          "model_name": "HTMLModel",
          "state": {
            "_view_name": "HTMLView",
            "style": "IPY_MODEL_3453fd20775142ea818fb6a3e0404e91",
            "_dom_classes": [],
            "description": "",
            "_model_name": "HTMLModel",
            "placeholder": "​",
            "_view_module": "@jupyter-widgets/controls",
            "_model_module_version": "1.5.0",
            "value": " 5.09k/5.09k [00:00&lt;00:00, 137kB/s]",
            "_view_count": null,
            "_view_module_version": "1.5.0",
            "description_tooltip": null,
            "_model_module": "@jupyter-widgets/controls",
            "layout": "IPY_MODEL_038de10e568543d7bfb20785d267749b"
          }
        },
        "8478a99bcfdd4bd08a97f416ccb1aeec": {
          "model_module": "@jupyter-widgets/controls",
          "model_name": "DescriptionStyleModel",
          "state": {
            "_view_name": "StyleView",
            "_model_name": "DescriptionStyleModel",
            "description_width": "",
            "_view_module": "@jupyter-widgets/base",
            "_model_module_version": "1.5.0",
            "_view_count": null,
            "_view_module_version": "1.2.0",
            "_model_module": "@jupyter-widgets/controls"
          }
        },
        "9d80fe1352264004847c6d60d206e205": {
          "model_module": "@jupyter-widgets/base",
          "model_name": "LayoutModel",
          "state": {
            "_view_name": "LayoutView",
            "grid_template_rows": null,
            "right": null,
            "justify_content": null,
            "_view_module": "@jupyter-widgets/base",
            "overflow": null,
            "_model_module_version": "1.2.0",
            "_view_count": null,
            "flex_flow": null,
            "width": null,
            "min_width": null,
            "border": null,
            "align_items": null,
            "bottom": null,
            "_model_module": "@jupyter-widgets/base",
            "top": null,
            "grid_column": null,
            "overflow_y": null,
            "overflow_x": null,
            "grid_auto_flow": null,
            "grid_area": null,
            "grid_template_columns": null,
            "flex": null,
            "_model_name": "LayoutModel",
            "justify_items": null,
            "grid_row": null,
            "max_height": null,
            "align_content": null,
            "visibility": null,
            "align_self": null,
            "height": null,
            "min_height": null,
            "padding": null,
            "grid_auto_rows": null,
            "grid_gap": null,
            "max_width": null,
            "order": null,
            "_view_module_version": "1.2.0",
            "grid_template_areas": null,
            "object_position": null,
            "object_fit": null,
            "grid_auto_columns": null,
            "margin": null,
            "display": null,
            "left": null
          }
        },
        "5ad637cdce4948ba8f9928683aba561c": {
          "model_module": "@jupyter-widgets/controls",
          "model_name": "ProgressStyleModel",
          "state": {
            "_view_name": "StyleView",
            "_model_name": "ProgressStyleModel",
            "description_width": "",
            "_view_module": "@jupyter-widgets/base",
            "_model_module_version": "1.5.0",
            "_view_count": null,
            "_view_module_version": "1.2.0",
            "bar_color": null,
            "_model_module": "@jupyter-widgets/controls"
          }
        },
        "4a42e2f396a74b22a34e1b329a408239": {
          "model_module": "@jupyter-widgets/base",
          "model_name": "LayoutModel",
          "state": {
            "_view_name": "LayoutView",
            "grid_template_rows": null,
            "right": null,
            "justify_content": null,
            "_view_module": "@jupyter-widgets/base",
            "overflow": null,
            "_model_module_version": "1.2.0",
            "_view_count": null,
            "flex_flow": null,
            "width": null,
            "min_width": null,
            "border": null,
            "align_items": null,
            "bottom": null,
            "_model_module": "@jupyter-widgets/base",
            "top": null,
            "grid_column": null,
            "overflow_y": null,
            "overflow_x": null,
            "grid_auto_flow": null,
            "grid_area": null,
            "grid_template_columns": null,
            "flex": null,
            "_model_name": "LayoutModel",
            "justify_items": null,
            "grid_row": null,
            "max_height": null,
            "align_content": null,
            "visibility": null,
            "align_self": null,
            "height": null,
            "min_height": null,
            "padding": null,
            "grid_auto_rows": null,
            "grid_gap": null,
            "max_width": null,
            "order": null,
            "_view_module_version": "1.2.0",
            "grid_template_areas": null,
            "object_position": null,
            "object_fit": null,
            "grid_auto_columns": null,
            "margin": null,
            "display": null,
            "left": null
          }
        },
        "3453fd20775142ea818fb6a3e0404e91": {
          "model_module": "@jupyter-widgets/controls",
          "model_name": "DescriptionStyleModel",
          "state": {
            "_view_name": "StyleView",
            "_model_name": "DescriptionStyleModel",
            "description_width": "",
            "_view_module": "@jupyter-widgets/base",
            "_model_module_version": "1.5.0",
            "_view_count": null,
            "_view_module_version": "1.2.0",
            "_model_module": "@jupyter-widgets/controls"
          }
        },
        "038de10e568543d7bfb20785d267749b": {
          "model_module": "@jupyter-widgets/base",
          "model_name": "LayoutModel",
          "state": {
            "_view_name": "LayoutView",
            "grid_template_rows": null,
            "right": null,
            "justify_content": null,
            "_view_module": "@jupyter-widgets/base",
            "overflow": null,
            "_model_module_version": "1.2.0",
            "_view_count": null,
            "flex_flow": null,
            "width": null,
            "min_width": null,
            "border": null,
            "align_items": null,
            "bottom": null,
            "_model_module": "@jupyter-widgets/base",
            "top": null,
            "grid_column": null,
            "overflow_y": null,
            "overflow_x": null,
            "grid_auto_flow": null,
            "grid_area": null,
            "grid_template_columns": null,
            "flex": null,
            "_model_name": "LayoutModel",
            "justify_items": null,
            "grid_row": null,
            "max_height": null,
            "align_content": null,
            "visibility": null,
            "align_self": null,
            "height": null,
            "min_height": null,
            "padding": null,
            "grid_auto_rows": null,
            "grid_gap": null,
            "max_width": null,
            "order": null,
            "_view_module_version": "1.2.0",
            "grid_template_areas": null,
            "object_position": null,
            "object_fit": null,
            "grid_auto_columns": null,
            "margin": null,
            "display": null,
            "left": null
          }
        }
      }
    }
  },
  "cells": [
    {
      "cell_type": "markdown",
      "metadata": {
        "id": "view-in-github",
        "colab_type": "text"
      },
      "source": [
        "<a href=\"https://colab.research.google.com/github/Maleehak/StackoverflowTagPrediction/blob/main/Predict_tags_on_StackOverflow.ipynb\" target=\"_parent\"><img src=\"https://colab.research.google.com/assets/colab-badge.svg\" alt=\"Open In Colab\"/></a>"
      ]
    },
    {
      "cell_type": "markdown",
      "metadata": {
        "id": "Lqor_5SLjhDZ"
      },
      "source": [
        "# Predict tags on StackOverflow with linear models"
      ]
    },
    {
      "cell_type": "markdown",
      "metadata": {
        "id": "ZLalRea_jhDb"
      },
      "source": [
        "In this project, tags for posts from [StackOverflow](https://stackoverflow.com)are predicted. Multilabel classification approach was used.\n",
        "\n",
        "### Libraries\n",
        "\n",
        "Following libraries were needed:\n",
        "- [Numpy](http://www.numpy.org) — a package for scientific computing.\n",
        "- [Pandas](https://pandas.pydata.org) — a library providing high-performance, easy-to-use data structures and data analysis tools for the Python\n",
        "- [scikit-learn](http://scikit-learn.org/stable/index.html) — a tool for data mining and data analysis.\n",
        "- [NLTK](http://www.nltk.org) — a platform to work with natural language."
      ]
    },
    {
      "cell_type": "markdown",
      "metadata": {
        "id": "1EbW6fxwjhDb"
      },
      "source": [
        "### Data\n",
        "\n",
        "Downloads all data required:"
      ]
    },
    {
      "cell_type": "code",
      "metadata": {
        "id": "Aku_vFOMjhDc",
        "colab": {
          "base_uri": "https://localhost:8080/",
          "height": 332,
          "referenced_widgets": [
            "037e99105db3423ab473c751bcacba79",
            "d0437c8ac2314f85934f23f9494fdda8",
            "8a82296bc6494323925d51c76925a20f",
            "ab006de3170645d693011e64cbe3e410",
            "0a91d45e2f4d4384b29f13e21b5d58b8",
            "f08010a5e937488f850ec07fad9570f1",
            "2957cec37b8545089ca8bbdab173ed84",
            "766f015df3ea4873b73fe91007021a9b",
            "e3f58ab1948b408fa2f357d7496a6d17",
            "ab391514580246b4b992e6261dd029d8",
            "4bfbedbb8508481d9114424ec716f50a",
            "3e33a5e0b7274d74ac97452b53b24b5a",
            "ac0b1263a4334b10901fbb2d9bf1351d",
            "7507188aa4a446d6b2b5298efe67e73b",
            "9975fefeefff4c8b82e19ef0f9b294cc",
            "9591ddd6ffb24ea1b38d9f687a3fd866",
            "d48daeb1376e49078f0f8c55343f763d",
            "ecdffdb0f7d145be9a0f1cc248f0f615",
            "5260ff1cfc24471bbcdd505d64f7e24a",
            "175e8f88f1a846949dc3494d4341567e",
            "dfc899bf1aec4f2697e29e2497a5139a",
            "630dc351dc234c39bea818dd584d1456",
            "fc8cc20eb9e3466a8a92d39ab1a87119",
            "62e105f998b344bdbde9faa7e78c7ac6",
            "5c56d109efbd47b4b00a120e83c008fb",
            "7f5a3891fb3640b7b1ae4fa410a36b06",
            "dd1a98c534144db7a709b327f421b5ca",
            "5e85e0c129434dc68d048d1b78f723f8",
            "3b9fe7c421a144e4a4e2a9a79f3eaa93",
            "f993a9f9dabc4f15a0597f5076a8d561",
            "d8bdea066eae4036b4c158d1d78cb7f2",
            "4fda1d16859a4f36b8ff459295348c9b",
            "71b6c17d039a4869a2b2e9e02bd4e109",
            "aad4daa295f44762be73a8354e8bc9ea",
            "796166cab6e74c61a6480f15cb61551c",
            "6669a8a136ce4e8a9cbca7c40504eacb",
            "86a8d164a9af4f9490bd60b9c2ae88f8",
            "bf9b5bf4a5324818aee8efd4b47d0c4a",
            "8478a99bcfdd4bd08a97f416ccb1aeec",
            "9d80fe1352264004847c6d60d206e205",
            "5ad637cdce4948ba8f9928683aba561c",
            "4a42e2f396a74b22a34e1b329a408239",
            "3453fd20775142ea818fb6a3e0404e91",
            "038de10e568543d7bfb20785d267749b"
          ]
        },
        "outputId": "e2284081-8ba9-47ea-c839-1e5c1d4ee260"
      },
      "source": [
        "try:\n",
        "    import google.colab\n",
        "    IN_COLAB = True\n",
        "except:\n",
        "    IN_COLAB = False\n",
        "\n",
        "if IN_COLAB:\n",
        "    ! wget https://raw.githubusercontent.com/hse-aml/natural-language-processing/master/setup_google_colab.py -O setup_google_colab.py\n",
        "    import setup_google_colab\n",
        "    setup_google_colab.setup_week1() \n",
        "    \n",
        "import sys\n",
        "sys.path.append(\"..\")\n",
        "from common.download_utils import download_week1_resources\n",
        "\n",
        "download_week1_resources()"
      ],
      "execution_count": null,
      "outputs": [
        {
          "output_type": "stream",
          "text": [
            "--2021-01-20 18:08:53--  https://raw.githubusercontent.com/hse-aml/natural-language-processing/master/setup_google_colab.py\n",
            "Resolving raw.githubusercontent.com (raw.githubusercontent.com)... 151.101.0.133, 151.101.64.133, 151.101.128.133, ...\n",
            "Connecting to raw.githubusercontent.com (raw.githubusercontent.com)|151.101.0.133|:443... connected.\n",
            "HTTP request sent, awaiting response... 200 OK\n",
            "Length: 1939 (1.9K) [text/plain]\n",
            "Saving to: ‘setup_google_colab.py’\n",
            "\n",
            "setup_google_colab. 100%[===================>]   1.89K  --.-KB/s    in 0s      \n",
            "\n",
            "2021-01-20 18:08:54 (29.2 MB/s) - ‘setup_google_colab.py’ saved [1939/1939]\n",
            "\n"
          ],
          "name": "stdout"
        },
        {
          "output_type": "display_data",
          "data": {
            "application/vnd.jupyter.widget-view+json": {
              "model_id": "037e99105db3423ab473c751bcacba79",
              "version_minor": 0,
              "version_major": 2
            },
            "text/plain": [
              "  0%|          | 0.00/7.20M [00:00<?, ?B/s]"
            ]
          },
          "metadata": {
            "tags": []
          }
        },
        {
          "output_type": "display_data",
          "data": {
            "application/vnd.jupyter.widget-view+json": {
              "model_id": "3e33a5e0b7274d74ac97452b53b24b5a",
              "version_minor": 0,
              "version_major": 2
            },
            "text/plain": [
              "  0%|          | 0.00/2.17M [00:00<?, ?B/s]"
            ]
          },
          "metadata": {
            "tags": []
          }
        },
        {
          "output_type": "display_data",
          "data": {
            "application/vnd.jupyter.widget-view+json": {
              "model_id": "fc8cc20eb9e3466a8a92d39ab1a87119",
              "version_minor": 0,
              "version_major": 2
            },
            "text/plain": [
              "  0%|          | 0.00/1.04M [00:00<?, ?B/s]"
            ]
          },
          "metadata": {
            "tags": []
          }
        },
        {
          "output_type": "display_data",
          "data": {
            "application/vnd.jupyter.widget-view+json": {
              "model_id": "aad4daa295f44762be73a8354e8bc9ea",
              "version_minor": 0,
              "version_major": 2
            },
            "text/plain": [
              "  0%|          | 0.00/5.09k [00:00<?, ?B/s]"
            ]
          },
          "metadata": {
            "tags": []
          }
        }
      ]
    },
    {
      "cell_type": "markdown",
      "metadata": {
        "id": "8RF7RusUjhDp"
      },
      "source": [
        "### Text preprocessing"
      ]
    },
    {
      "cell_type": "markdown",
      "metadata": {
        "id": "P3wUlmqojhDr"
      },
      "source": [
        "We will need to use a list of stop words. It can be downloaded from *nltk*:"
      ]
    },
    {
      "cell_type": "code",
      "metadata": {
        "id": "sHFPQMnBjhDr",
        "colab": {
          "base_uri": "https://localhost:8080/"
        },
        "outputId": "b007e066-0669-4ec9-853d-9702a1fb7691"
      },
      "source": [
        "import nltk\n",
        "nltk.download('stopwords')\n",
        "from nltk.corpus import stopwords"
      ],
      "execution_count": null,
      "outputs": [
        {
          "output_type": "stream",
          "text": [
            "[nltk_data] Downloading package stopwords to /root/nltk_data...\n",
            "[nltk_data]   Unzipping corpora/stopwords.zip.\n"
          ],
          "name": "stdout"
        }
      ]
    },
    {
      "cell_type": "markdown",
      "metadata": {
        "id": "8lzVNP84jhDv"
      },
      "source": [
        "The dataset of post titles from StackOverflow.  splits  to 3 sets: *train*, *validation* and *test*. All corpora (except for *test*) contain titles of the posts and corresponding tags (100 tags are available). Uploading the corpora using *pandas*:"
      ]
    },
    {
      "cell_type": "code",
      "metadata": {
        "id": "h0oBRfWNjhDv"
      },
      "source": [
        "from ast import literal_eval\n",
        "import pandas as pd\n",
        "import numpy as np"
      ],
      "execution_count": null,
      "outputs": []
    },
    {
      "cell_type": "code",
      "metadata": {
        "id": "N9IEcWF6jhDz"
      },
      "source": [
        "def read_data(filename):\n",
        "    data = pd.read_csv(filename, sep='\\t')\n",
        "    data['tags'] = data['tags'].apply(literal_eval)\n",
        "    return data"
      ],
      "execution_count": null,
      "outputs": []
    },
    {
      "cell_type": "code",
      "metadata": {
        "id": "C_Cqnuz3jhD6"
      },
      "source": [
        "train = read_data('data/train.tsv')\n",
        "validation = read_data('data/validation.tsv')\n",
        "test = pd.read_csv('data/test.tsv', sep='\\t')"
      ],
      "execution_count": null,
      "outputs": []
    },
    {
      "cell_type": "code",
      "metadata": {
        "id": "b8EnYaRmjhD-",
        "colab": {
          "base_uri": "https://localhost:8080/",
          "height": 204
        },
        "outputId": "aef8c627-360b-463b-8723-87f6bf765c79"
      },
      "source": [
        "train.head()"
      ],
      "execution_count": null,
      "outputs": [
        {
          "output_type": "execute_result",
          "data": {
            "text/html": [
              "<div>\n",
              "<style scoped>\n",
              "    .dataframe tbody tr th:only-of-type {\n",
              "        vertical-align: middle;\n",
              "    }\n",
              "\n",
              "    .dataframe tbody tr th {\n",
              "        vertical-align: top;\n",
              "    }\n",
              "\n",
              "    .dataframe thead th {\n",
              "        text-align: right;\n",
              "    }\n",
              "</style>\n",
              "<table border=\"1\" class=\"dataframe\">\n",
              "  <thead>\n",
              "    <tr style=\"text-align: right;\">\n",
              "      <th></th>\n",
              "      <th>title</th>\n",
              "      <th>tags</th>\n",
              "    </tr>\n",
              "  </thead>\n",
              "  <tbody>\n",
              "    <tr>\n",
              "      <th>0</th>\n",
              "      <td>How to draw a stacked dotplot in R?</td>\n",
              "      <td>[r]</td>\n",
              "    </tr>\n",
              "    <tr>\n",
              "      <th>1</th>\n",
              "      <td>mysql select all records where a datetime fiel...</td>\n",
              "      <td>[php, mysql]</td>\n",
              "    </tr>\n",
              "    <tr>\n",
              "      <th>2</th>\n",
              "      <td>How to terminate windows phone 8.1 app</td>\n",
              "      <td>[c#]</td>\n",
              "    </tr>\n",
              "    <tr>\n",
              "      <th>3</th>\n",
              "      <td>get current time in a specific country via jquery</td>\n",
              "      <td>[javascript, jquery]</td>\n",
              "    </tr>\n",
              "    <tr>\n",
              "      <th>4</th>\n",
              "      <td>Configuring Tomcat to Use SSL</td>\n",
              "      <td>[java]</td>\n",
              "    </tr>\n",
              "  </tbody>\n",
              "</table>\n",
              "</div>"
            ],
            "text/plain": [
              "                                               title                  tags\n",
              "0                How to draw a stacked dotplot in R?                   [r]\n",
              "1  mysql select all records where a datetime fiel...          [php, mysql]\n",
              "2             How to terminate windows phone 8.1 app                  [c#]\n",
              "3  get current time in a specific country via jquery  [javascript, jquery]\n",
              "4                      Configuring Tomcat to Use SSL                [java]"
            ]
          },
          "metadata": {
            "tags": []
          },
          "execution_count": 8
        }
      ]
    },
    {
      "cell_type": "markdown",
      "metadata": {
        "id": "AGsbk6-WjhEB"
      },
      "source": [
        "*title* column contains titles of the posts and *tags* column contains the tags. It could be noticed that a number of tags for a post is not fixed and could be as many as necessary."
      ]
    },
    {
      "cell_type": "markdown",
      "metadata": {
        "id": "oqR99jI0jhEC"
      },
      "source": [
        "For a more comfortable usage, initialize *X_train*, *X_val*, *X_test*, *y_train*, *y_val*."
      ]
    },
    {
      "cell_type": "code",
      "metadata": {
        "id": "oxKPdUF0jhEC"
      },
      "source": [
        "X_train, y_train = train['title'].values, train['tags'].values\n",
        "X_val, y_val = validation['title'].values, validation['tags'].values\n",
        "X_test = test['title'].values"
      ],
      "execution_count": null,
      "outputs": []
    },
    {
      "cell_type": "markdown",
      "metadata": {
        "id": "Vsclg0vijhEG"
      },
      "source": [
        "One of the most known difficulties when working with natural data is that it's unstructured. For example, if you use it \"as is\" and extract tokens just by splitting the titles by whitespaces, you will see that there are many \"weird\" tokens like *3.5?*, *\"Flip*, etc. To prevent the problems, it's usually useful to prepare the data somehow. \n",
        "\n",
        "**Task 1 (TextPrepare).** Implementing the function *text_prepare*. After that, running the function *test_text_prepare* to test it on tiny cases."
      ]
    },
    {
      "cell_type": "code",
      "metadata": {
        "id": "dD74oV5QjhEG"
      },
      "source": [
        "import re"
      ],
      "execution_count": null,
      "outputs": []
    },
    {
      "cell_type": "code",
      "metadata": {
        "id": "BXKX6PCFjhEL"
      },
      "source": [
        "REPLACE_BY_SPACE_RE = re.compile('[/(){}\\[\\]\\|@,;]')\n",
        "BAD_SYMBOLS_RE = re.compile('[^0-9a-z #+_]')\n",
        "STOPWORDS = set(stopwords.words('english'))\n",
        "\n",
        "def text_prepare(text):\n",
        "    \"\"\"\n",
        "        text: a string\n",
        "        \n",
        "        return: modified initial string\n",
        "    \"\"\"\n",
        "    text = text.lower()\n",
        "    text = re.sub(REPLACE_BY_SPACE_RE, '', text) \n",
        "    text = re.sub(BAD_SYMBOLS_RE, '', text)\n",
        "    text = [word for word in text.split() if word not in STOPWORDS]\n",
        "    text = \" \".join(text)\n",
        "    return text"
      ],
      "execution_count": null,
      "outputs": []
    },
    {
      "cell_type": "code",
      "metadata": {
        "id": "1gQuOXL2jhEP"
      },
      "source": [
        "def test_text_prepare():\n",
        "    examples = [\"SQL Server - any equivalent of Excel's CHOOSE function?\",\n",
        "                \"How to free c++ memory vector<int> * arr?\"]\n",
        "    answers = [\"sql server equivalent excels choose function\", \n",
        "               \"free c++ memory vectorint arr\"]\n",
        "    for ex, ans in zip(examples, answers):\n",
        "        if text_prepare(ex) != ans:\n",
        "            return \"Wrong answer for the case: '%s'\" % ex\n",
        "    return 'Basic tests are passed.'"
      ],
      "execution_count": null,
      "outputs": []
    },
    {
      "cell_type": "code",
      "metadata": {
        "id": "kyUGIm7HjhES",
        "colab": {
          "base_uri": "https://localhost:8080/"
        },
        "outputId": "fca0d0ba-2879-42ef-f75f-22219545ac6b"
      },
      "source": [
        "print(test_text_prepare())"
      ],
      "execution_count": null,
      "outputs": [
        {
          "output_type": "stream",
          "text": [
            "Basic tests are passed.\n"
          ],
          "name": "stdout"
        }
      ]
    },
    {
      "cell_type": "markdown",
      "metadata": {
        "id": "8WVYu_hKjhEX"
      },
      "source": [
        "Run your implementation for questions from file *text_prepare_tests.tsv*"
      ]
    },
    {
      "cell_type": "code",
      "metadata": {
        "id": "82hbisE4jhEX"
      },
      "source": [
        "prepared_questions = []\n",
        "for line in open('data/text_prepare_tests.tsv', encoding='utf-8'):\n",
        "    line = text_prepare(line.strip())\n",
        "    prepared_questions.append(line)\n",
        "text_prepare_results = '\\n'.join(prepared_questions)\n"
      ],
      "execution_count": null,
      "outputs": []
    },
    {
      "cell_type": "markdown",
      "metadata": {
        "id": "MfXo5qkUjhEb"
      },
      "source": [
        "Now we can preprocess the titles using function *text_prepare* and  making sure that the headers don't have bad symbols:"
      ]
    },
    {
      "cell_type": "code",
      "metadata": {
        "id": "GVVSOLkzjhEc"
      },
      "source": [
        "X_train = [text_prepare(x) for x in X_train]\n",
        "X_val = [text_prepare(x) for x in X_val]\n",
        "X_test = [text_prepare(x) for x in X_test]"
      ],
      "execution_count": null,
      "outputs": []
    },
    {
      "cell_type": "code",
      "metadata": {
        "id": "TTadYQA9jhEh",
        "colab": {
          "base_uri": "https://localhost:8080/"
        },
        "outputId": "69eb929a-8e96-4fee-e006-8d5d6c09d6bd"
      },
      "source": [
        "X_train[:3]"
      ],
      "execution_count": null,
      "outputs": [
        {
          "output_type": "execute_result",
          "data": {
            "text/plain": [
              "['draw stacked dotplot r',\n",
              " 'mysql select records datetime field less specified value',\n",
              " 'terminate windows phone 81 app']"
            ]
          },
          "metadata": {
            "tags": []
          },
          "execution_count": 16
        }
      ]
    },
    {
      "cell_type": "markdown",
      "metadata": {
        "id": "gTzP_wXGjhEl"
      },
      "source": [
        "For each tag and for each word, calculating how many times they occur in the train corpus. \n",
        "\n",
        "**Task 2 (WordsTagsCount).** Finding 3 most popular tags and 3 most popular words in the train data."
      ]
    },
    {
      "cell_type": "code",
      "metadata": {
        "id": "RfiFbqa2QRiP",
        "colab": {
          "base_uri": "https://localhost:8080/"
        },
        "outputId": "2fa2131f-cf75-4d11-bafb-1f89a14878c5"
      },
      "source": [
        "nltk.download('punkt')"
      ],
      "execution_count": null,
      "outputs": [
        {
          "output_type": "stream",
          "text": [
            "[nltk_data] Downloading package punkt to /root/nltk_data...\n",
            "[nltk_data]   Unzipping tokenizers/punkt.zip.\n"
          ],
          "name": "stdout"
        },
        {
          "output_type": "execute_result",
          "data": {
            "text/plain": [
              "True"
            ]
          },
          "metadata": {
            "tags": []
          },
          "execution_count": 17
        }
      ]
    },
    {
      "cell_type": "code",
      "metadata": {
        "id": "9qysHToJjhEm"
      },
      "source": [
        "# Dictionary of all tags from train corpus with their counts.\n",
        "tags_counts = {}\n",
        "# Dictionary of all words from train corpus with their counts.\n",
        "words_counts = {}\n",
        "\n",
        "from nltk.tokenize import sent_tokenize, word_tokenize\n",
        "from collections import Counter\n",
        "from itertools import chain\n",
        "\n",
        "#stringified_X_train=\" \".join(x for x in X_train)\n",
        "#words_counts = list(chain(*[word_tokenize(s) for s in sent_tokenize(stringified_X_train)]))\n",
        "#words_counts=Counter(words_counts)\n",
        "words_counts = Counter([word for line in X_train for word in line.split(' ')])\n",
        "\n",
        "tags_counts = list(chain(*[s for s in y_train]))\n",
        "tags_counts=Counter(tags_counts)"
      ],
      "execution_count": null,
      "outputs": []
    },
    {
      "cell_type": "code",
      "metadata": {
        "id": "RgiQvpNBvaQi",
        "colab": {
          "base_uri": "https://localhost:8080/"
        },
        "outputId": "2b6e3888-c10e-409e-83b7-56207c9fd24b"
      },
      "source": [
        "X_train"
      ],
      "execution_count": null,
      "outputs": [
        {
          "output_type": "execute_result",
          "data": {
            "text/plain": [
              "['draw stacked dotplot r',\n",
              " 'mysql select records datetime field less specified value',\n",
              " 'terminate windows phone 81 app',\n",
              " 'get current time specific country via jquery',\n",
              " 'configuring tomcat use ssl',\n",
              " 'awesome nested set plugin add new children tree various levels',\n",
              " 'create map json response ruby rails 3',\n",
              " 'rspec test method called',\n",
              " 'springboot catalina lifecycle exception',\n",
              " 'import data excel mysql database using php',\n",
              " 'obtaining object javalangclasst object parameterized type without constructing class q_uestion',\n",
              " 'ipad selecting text inside text input tap',\n",
              " 'jquerys function object',\n",
              " 'eclipse c++ mingw lauch program terminated',\n",
              " 'javascript call one prototype method another prototype method',\n",
              " 'get intersection list sets',\n",
              " 'longer able hide keyboard viewwilldisappear ios7',\n",
              " 'fetch key json swift',\n",
              " 'change pivot header template windows phone 8',\n",
              " 'connectionstring encryption',\n",
              " 'let ui refresh long running ui operation',\n",
              " 'better way execute ruby file using python get ruby console output ruby file run python',\n",
              " 'make 2 thumbnails codeigniter',\n",
              " 'java character vs char memory usage',\n",
              " 'bootstrap modal close enter key press',\n",
              " 'linq query group retrieving percentage',\n",
              " 'label field issue openerp',\n",
              " 'keep 2 objects view time scaling field view zy axis',\n",
              " 'attributeerror nonetype object attribute split',\n",
              " 'append mat file using scipyiosavemat',\n",
              " 'jquery replace onclick hcommandlink',\n",
              " 'redirect output ruby programme file',\n",
              " 'accesscontrolalloworigin header present requested resource error',\n",
              " 'creating json windows 8 c# using ijsonvalue cannot implicitly convert type string windowsdatajsonijsonvalue',\n",
              " 'django modelform label captialisation',\n",
              " 'showhide div slide javascript without jquery',\n",
              " 'avoid busy spinning java',\n",
              " 'laravel 4 inputall returns data ajax post',\n",
              " 'handle neterr_connection_refused jquery ajax',\n",
              " 'year function r',\n",
              " 'use retrofit singleton using gson convertor',\n",
              " 'use settimer nondialog cpp mfc app',\n",
              " 'copying web reference new project',\n",
              " 'linq query select top five',\n",
              " 'javascript insert string specific index',\n",
              " 'apache poi change page format excel worksheet',\n",
              " 'python tkinter indeterminate progress bar running',\n",
              " 'store image path mysql database using c#',\n",
              " 'jdbc connection error associated managed connection',\n",
              " 'use multiple tables one model yii2',\n",
              " 'get controller names aspnet mvc4',\n",
              " 'casting integer array object array java',\n",
              " 'getting error uploading file php',\n",
              " 'clear methods java',\n",
              " 'printing floats specific number zeros',\n",
              " 'simple cc++ network io library',\n",
              " 'running ruby usrbin instead usrlocalbin',\n",
              " 'bitmap c binary operations',\n",
              " 'laravel default mail working',\n",
              " 'entity framework model distinct function',\n",
              " 'extjs get checked nodes submit',\n",
              " 'linq select nested lists',\n",
              " 'show hide element pass values javascript html element using javascript jquery',\n",
              " 'get information json dictionary java',\n",
              " 'jquery slidetoggle text replace',\n",
              " 'display image created opencv android',\n",
              " 'instantiating class string current namespace',\n",
              " 'wpf screen resolution',\n",
              " 'content static table view cell displayed ios 9',\n",
              " 'best autocompletesuggest algorithmdatastructure c++c',\n",
              " 'backbone modelsave sending put instead post',\n",
              " 'windowlocationreplace redirects given page destroies session php chrome',\n",
              " 'mvc 4 razor model missing collections use form post',\n",
              " 'apache poi date ddmmyyyy',\n",
              " 'change style one dynamically created linkbutton affecting others',\n",
              " 'check point line',\n",
              " 'python client request fails default timeout',\n",
              " 'simultaneously acquire data update graph using python matplotlib',\n",
              " 'store value string array',\n",
              " 'c# datatable inner join dynamic columns',\n",
              " 'correct realization adapter pattern objective c',\n",
              " 'save image another folder using ajax jquery',\n",
              " 'use function currying python',\n",
              " 'jquery datatablesnet plugin ignore specific rows sorting',\n",
              " 'get current dom element angular directive',\n",
              " 'draw rectangles next java',\n",
              " 'getting parameters url zend',\n",
              " 'template inheritance inner class access problem',\n",
              " 'valueerror time data 20120719 082400 match format ymd hms',\n",
              " 'passing array json objects trough sockets java',\n",
              " 'missing child nodes deserializing xml object',\n",
              " 'error uploading new ipad app version ipad application executable contains unsupported architectures i386',\n",
              " 'passing array using com',\n",
              " 'getting urllib2urlerror urlopen error errno 10061 error',\n",
              " 'unique combination set',\n",
              " 'bind drop list using jquery ajax change first ddl',\n",
              " 'rails 31 qeurying database encrypted attr_encrypted gem clause encrypted fields',\n",
              " 'listctrl hack set listitems text listctrl',\n",
              " 'php mysql google maps api generate poi city state name',\n",
              " 'mappedby reference unknown target entity property',\n",
              " 'run java applet mac os 1066',\n",
              " 'get country latitude longitude',\n",
              " 'google map mouseout listener working wordpress',\n",
              " 'find row specified text quickly',\n",
              " 'iphone xcodebuild command terminal working',\n",
              " 'sapply return matrix need transpose transposed matrix attach dataframe',\n",
              " 'insert rows parent children programmatically',\n",
              " 'd3 js tick spacing time axis gets messed month boundary',\n",
              " 'create hash dictionary object javascript',\n",
              " 'c# oledbconnection con set timeout',\n",
              " 'change default django user model fit needs',\n",
              " 'ignore jsonpropertypropertyname somename serializing json',\n",
              " 'automatically install toolbarbutton firefox navbar working insertitem',\n",
              " 'auto layout add new constraints interactive interface builder',\n",
              " 'kill child process running system shell command',\n",
              " 'setting php timezone cant update recent olson',\n",
              " 'facebook show help dialog',\n",
              " 'javascriptjquery event listener image load browsers',\n",
              " 'intellijandroid java constant expression required case ridviewid',\n",
              " 'dropdown select based database entries',\n",
              " 'jquery wont work local machine',\n",
              " 'display data mysql database table using pyqt',\n",
              " 'addeventlistener working',\n",
              " 'send data specific thread',\n",
              " 'focus listviewitem wpf',\n",
              " 'documentgetelementbyidtableidinnerhtml working ie8',\n",
              " 'efficient convert string int inverse',\n",
              " 'edit specific line txt file c',\n",
              " 'conditionally filter iqueryable type using generic repository pattern',\n",
              " 'get memory usage rails app',\n",
              " 'invalid indirect reference decodeindirectref trying convert c++ java',\n",
              " 'insert multiple record table codeigniter',\n",
              " 'convert sql query linq',\n",
              " 'notesnotessession vs dominonotessession password prompt',\n",
              " 'regex needed java handle dynamic string value',\n",
              " 'best way play videos website',\n",
              " 'reading line line stdin without blocking',\n",
              " 'uploading video old facebook rest api',\n",
              " 'bind comma separated string java collection list spring form',\n",
              " 'checking content member element c struct array',\n",
              " 'gridview data export excel aspnet',\n",
              " 'tinymce moxie player media splash image',\n",
              " 'propertyplaceholderconfigurerlike class use spring accepts xml',\n",
              " 'import csv file using stringsplit without array shortened due blank fields',\n",
              " 'getting li value ngmodel',\n",
              " 'start blackberry programming',\n",
              " 'smloginitemsetenabled get counterpart',\n",
              " 'searching xml value',\n",
              " 'iphone sdk quick reference',\n",
              " 'c# get directory name directorynotfoundexception',\n",
              " 'php csv column headings',\n",
              " 'java printing odd even numbers using 2 threads',\n",
              " 'alternatives os projects c# similar joomlamambodrupal',\n",
              " 'assign c# dynamic variable properties another dynamic object',\n",
              " 'get parameters url laravel',\n",
              " 'setting field value object child another object',\n",
              " 'android accessing global variable inside onclicklistener',\n",
              " 'operation variable argument list uml',\n",
              " 'preg_replace curly brackets',\n",
              " 'rails 323 bundler could find compatible versions gem railties',\n",
              " 'c# windows form exe',\n",
              " 'antcreate junit report task programmatically',\n",
              " 'facebooks messenger sms broadcast receiver takes highest priority reboot',\n",
              " 'documentgetelementsbyclassnamename length 0',\n",
              " 'mvc bypass clientside validation save progress vs submit',\n",
              " 'rvmrails installation error ubuntu 1104',\n",
              " 'trigger event specific slide bootstrap carousel',\n",
              " 'bypass socks proxy configuration iphone',\n",
              " 'unable concanate string+variable+string javascript',\n",
              " 'cant get redirecttoaction work',\n",
              " 'mapset iterators incompatible map destruction dependent constructor call',\n",
              " 'python parseerror bad input line',\n",
              " 'symfony2 forms use dynamic select options',\n",
              " 'laravel5 notfoundhttpexception routecollectionphp line 161',\n",
              " 'django ajax submission validation multiple forms handling',\n",
              " 'creating triggers jdbc oracle',\n",
              " 'access specific value mongoose query callback',\n",
              " 'javasecurityinvalidalgorithmparameterexception rc6 well rc2',\n",
              " 'updating rails models ajax',\n",
              " 'html 5 video canvas scaling issues',\n",
              " 'comparison variables pointing integer object',\n",
              " 'parse json data php',\n",
              " 'possible jump top page form submit',\n",
              " 'safely destroy dialog window wxpython application',\n",
              " 'problem php includes casesensitive file systems',\n",
              " 'django managepy runserver working',\n",
              " 'saving multiple data frames return function',\n",
              " 'refresh waypoints directions_changed',\n",
              " 'compilation error type namespace name could found',\n",
              " 'call parsecom api libgdx java implementation',\n",
              " 'iframe position',\n",
              " 'javascript adding text image using canvas save image',\n",
              " 'save value drop mysql',\n",
              " 'calculate correlation columns remove highly correlated ones using python pandas',\n",
              " 'optimizations browser perform dom element rendered screen',\n",
              " 'request denied service delegate sbmainworkspace',\n",
              " 'create mail client using phpmysql',\n",
              " 'count values column datagridview column',\n",
              " 'scipy buildinstall mac osx',\n",
              " 'wpf ip address mask textbox',\n",
              " 'use adodc vbnet',\n",
              " 'java library creating console commands',\n",
              " 'get selected valuetext html select codebehind',\n",
              " 'restrict jqgrid textarea height grid',\n",
              " 'generatorelement sequencetype swift 3',\n",
              " 'adding style editor',\n",
              " 'xml serialization readonlycollections',\n",
              " 'possible extend java class one name',\n",
              " 'exceptions handling guidelines c++',\n",
              " 'understand parallelinstances testng suite configure',\n",
              " 'import csv excel data webpage',\n",
              " 'pass parameter owin host',\n",
              " 'rspec check model saved',\n",
              " 'rake errors loading kind mutex',\n",
              " 'datetime add calculation inside linq entities query',\n",
              " 'difference ruby ruby rails',\n",
              " 'cocos2dx lua binding',\n",
              " 'reset dispatchertimer',\n",
              " 'angularjs verify check box clicked',\n",
              " 'pass structure pointer c dll c#',\n",
              " 'pausing method set # milliseconds',\n",
              " 'call javascript vbnet',\n",
              " 'difference data params python requests',\n",
              " 'brace highlighting visual studio javascript',\n",
              " 'email component versus phpmailer cakephp',\n",
              " 'cannot include header files correctly',\n",
              " 'php api development',\n",
              " 'change uiimageview size position programmatically swift',\n",
              " 'n n stdendl stdcout',\n",
              " 'ajax uploading file html 5 php',\n",
              " 'seperate gc log file java vm oracle application server',\n",
              " 'fix error laravellog could opened',\n",
              " 'php separate array commas',\n",
              " 'test string basically integer quotes using ruby',\n",
              " 'android java serversocket port number supposed',\n",
              " 'edit data database codeigniter using bootstrap modal',\n",
              " 'matching function call function template',\n",
              " 'reopen files python',\n",
              " 'cannot convert expressions type void type string',\n",
              " 'eclipse error could find load main class',\n",
              " 'linq grouping dynamically',\n",
              " 'sort matrix row preserving columns',\n",
              " 'systemconcurrencyasynclock',\n",
              " 'qt make mainwindow automatically resize centralwidget resized',\n",
              " 'c# delegate dispatcher problem',\n",
              " 'angularjs web api neterr_connection_refused chrome error 00002efd ie',\n",
              " 'submit form using href',\n",
              " 'compile single java file gradle',\n",
              " 'examine code function r thats object class sensitive',\n",
              " 'curl without curl problem',\n",
              " 'make rectangle pygame automatically moves mouse location',\n",
              " 'ruby naming conventions',\n",
              " 'get systemwindowsformsiwin32window wpf window',\n",
              " 'populate second dropdown based selected value first dropdown',\n",
              " 'install particle js wordpress using method',\n",
              " 'installing sunjava6jre gives error',\n",
              " 'pass variables reference javascript',\n",
              " 'symfony2 render view another controller',\n",
              " 'openxml spreadsheet update value sharedstringtable',\n",
              " 'objectivec find commonly used words nsstring',\n",
              " 'generics compilation error wildcard type',\n",
              " 'define vector undefined size',\n",
              " 'using switch case eval value',\n",
              " 'php class generator web services',\n",
              " 'objectivec implement ease animation',\n",
              " 'refresh jpa entities backend database changes asynchronously',\n",
              " 'dynamic subdomain creation php linux based server',\n",
              " 'preg_match long strings',\n",
              " 'open source template library matrix computation c c++',\n",
              " 'return null float method error handling',\n",
              " 'create canvas inside jframe draw basic shapes',\n",
              " 'regular expression startend position',\n",
              " 'detect screen brightness system volume changed',\n",
              " 'horizontal slider jquery 100 height auto width imageschildren',\n",
              " 'use serial print arduino',\n",
              " 'create checkbox list',\n",
              " 'execute php code wordpress post',\n",
              " 'outofmemory exception',\n",
              " 'cvcreatememstorage working second object instance',\n",
              " 'deploy clickonce application without signing',\n",
              " 'using 2d array create clickable tkinter canvas',\n",
              " 'rails created_at',\n",
              " 'refresh shopping cart item added',\n",
              " 'java compiler oddity field declared class yet visible',\n",
              " 'replacement cultureinfogetcultures net windows store apps',\n",
              " 'npm + mocha watch accurately watching files',\n",
              " 'dofilterinternal method called',\n",
              " 'stl vector template function problem',\n",
              " 'prevents c++ strict superset c',\n",
              " 'cant set clock using setsystemtime windows 8',\n",
              " 'using hash view rails',\n",
              " 'method overloading optional parameter',\n",
              " 'using lists tuples python statements',\n",
              " 'tomcat7 shows number inactive users tomcat manager',\n",
              " 'backbonejs accessing elements fired views event',\n",
              " 'remote notification launch app background',\n",
              " 'getting proper code completion python vim',\n",
              " 'jquery mobile didnt append div content',\n",
              " 'change entity map another unknown table runtime',\n",
              " 'weird object reference set instance object error using moq',\n",
              " 'check string nil swift',\n",
              " 'combine java plot code java serial code read arduino sensor value',\n",
              " 'retrieving data sql database vbnet',\n",
              " 'rails nomethoderror undefined method name nilnilclass',\n",
              " 'jbutton actionlistener producing several exceptions javaawt security event',\n",
              " 'catching keyboard input fullscreen seems work',\n",
              " 'parallel prime factorization',\n",
              " 'way duplicating rows datatable efficient',\n",
              " 'run php script background php nohup cli',\n",
              " 'create tuple lists list',\n",
              " 'c# datagridview sort checkbox column',\n",
              " 'yiibootstrap tabs event handler',\n",
              " 'examples creating custom soft input panel windowsce 60',\n",
              " 'php view exec status realtime possible',\n",
              " 'lookup twitter followers r',\n",
              " 'looking day view javascript libraryplugincalendar',\n",
              " 'draw text canvas three js sprite',\n",
              " 'bitmapsave huge memory leak',\n",
              " 'regex replace function',\n",
              " 'many many relationships taxonomy eloquent',\n",
              " 'write string encoding utf8 file',\n",
              " 'put library inside namespace',\n",
              " 'storing 2dimensional string array sqlite database',\n",
              " 'hibernate + gwt exception',\n",
              " 'save grab svg website local machine convert image',\n",
              " 'angular 2 routing plain javascript typescript',\n",
              " 'reading standard input using javaioinputstreamreader hangs process runs background',\n",
              " 'add calendar textfield java',\n",
              " 'unable bind listening socket address phpfpm',\n",
              " 'assign value using linq',\n",
              " 'rotating image pygame',\n",
              " 'get object associated selected rows datagridview',\n",
              " 'threaded program using one cpu',\n",
              " 'convert systemstring generically complex type using convertchangetype',\n",
              " 'javaxcryptobadpaddingexception data must start zero',\n",
              " 'wpf governing frameworkelement found errors',\n",
              " 'rspec testing views internationalization',\n",
              " 'request 2nd url httpwebrequest obj',\n",
              " 'facesmessage error rendering view',\n",
              " 'angular controller directive cause strict di error',\n",
              " 'nginx treats php binary',\n",
              " 'flask receiving data html post',\n",
              " 'add space start byte array',\n",
              " 'boolean detect element array',\n",
              " 'pip ignore proxy setting',\n",
              " 'joomla 25 fetch module class suffix',\n",
              " 'find certain character substring objectivec',\n",
              " 'convert javascript variable md5 hash using php',\n",
              " 'incompatible pointer type nsurl nsstring',\n",
              " 'static 2d array',\n",
              " 'get first item javautilset',\n",
              " 'php preg_match comma separated decimals',\n",
              " 'ffmpeg compresses upto 32 kbps',\n",
              " 'unexpected token error connecting mysql database php',\n",
              " 'ant failed build',\n",
              " 'construct json object symfony 14 field html content',\n",
              " 'get domain currently logged user windows',\n",
              " 'initialize 2d array huge size 1000000x1000000',\n",
              " 'casting integer double xpath 10',\n",
              " 'utf8 codec cant decode byte 0xae position',\n",
              " 'objectivec test uninitialized pointer static class type',\n",
              " 'net equivalent old vb leftstring length function',\n",
              " 'use class variable another class',\n",
              " 'python redirect stdout socket',\n",
              " 'change content div',\n",
              " 'npexp much slower npe',\n",
              " 'manually filter parameters rails',\n",
              " 'automatically resize stage content changed',\n",
              " 'baseonloade aspnet page',\n",
              " 'dict object attribute status_code error django project',\n",
              " 'call custom oracle function returning value jpa',\n",
              " 'get values enumeration created powershell',\n",
              " 'action_search cannot resolved field',\n",
              " 'datetime object string',\n",
              " 'compression utf8 encoding',\n",
              " 'use loop function run script multiple files using r',\n",
              " 'nicest way dynamically implement interface c#',\n",
              " 'c# winform timers notify parent class timer event raised',\n",
              " 'maximize custom wpf form screen size',\n",
              " 'echo php inside javascript',\n",
              " 'objective c convert java statment objective c code',\n",
              " 'read pdf file line line c#',\n",
              " 'jvmcfre003 bad major version',\n",
              " 'vbnet search function using textbox combo box',\n",
              " 'loading classes application file system runtime',\n",
              " 'setting sublime text 3 rails development',\n",
              " 'datagrid view updating update button clicked',\n",
              " 'adding two strings mathematically',\n",
              " 'cant paste javascript commands addressbar ie10',\n",
              " 'parse error syntax error unexpected end exampphtdocsannouncementsannouncementphp line 143',\n",
              " 'get public ip address using php',\n",
              " 'plot step histograms ggplot2 r',\n",
              " 'replace usernamepasswordauthenticationfilter spring security',\n",
              " 'wordpress show taxonomy custom admin menu',\n",
              " 'whats right way java connect microsoft access 2007 database',\n",
              " 'spring boot validation respond json',\n",
              " 'instanceof method use generics',\n",
              " 'python allow empty function docstring body without pass statement',\n",
              " 'difference class foo class fooobject python',\n",
              " 'canonical way transmit protocol buffers network',\n",
              " 'uiwebview identify last webviewdidfinishload message',\n",
              " 'eclipse rcp check job finished',\n",
              " 'create patch file using net windows application',\n",
              " 'create extension method tostring',\n",
              " 'passing field name function template',\n",
              " 'java upload file get back string contents file',\n",
              " 'nice way make kendo custom widget using typescript classes',\n",
              " 'create excel file using php compatible 2007 2003',\n",
              " 'passing email address via query string c#',\n",
              " 'undefined method include relationship model',\n",
              " 'create icon file contains multiple sizes images c#',\n",
              " 'expected string default value jbuilder got true boolean error new rails project',\n",
              " 'vbnet slider range control',\n",
              " 'domain class entity data framework',\n",
              " 'xml linq checking null elements',\n",
              " 'linker error compiling ios 5 app simulator undefined symbols _objc_assign_global _objc_assign_ivar _objc_assign_strongcast',\n",
              " 'meta httpequivrefresh content0 urlhttpwwwxxxxxxlcomindexphp refreshing',\n",
              " 'view hierachy prepared constraint',\n",
              " 'echo session variable within echo php',\n",
              " 'c# need pass object another class call methods update',\n",
              " 'unique null sqlalchemy django',\n",
              " 'android action_up detected',\n",
              " 'process_reaper thread java',\n",
              " 'linq xml recursive query',\n",
              " 'using event handlers vs overriding eventfiring methods',\n",
              " 'complex sorting xml using linq',\n",
              " 'possible make body onload event faster',\n",
              " 'zend framework could determine temp directory please specify cache_dir manually',\n",
              " 'disabling button one click prevent multiple submissions enabling redirect',\n",
              " 'java best way find first duplicate character string',\n",
              " 'create fixed table header rows include colspans',\n",
              " 'recommended nginx configuration high traffic website wordpress',\n",
              " 'fbgetloginstatus returns status unknown',\n",
              " 'dojo grid switching editable editable',\n",
              " 'logout jquery javascript using form authentication',\n",
              " 'wpf groupstyle groups 1 item',\n",
              " 'buffer growth strategy',\n",
              " 'c# google login',\n",
              " 'javascript date validation function',\n",
              " 'react es6 class transitionto working',\n",
              " 'running two lines code python time',\n",
              " 'matplotlib imshow zoom function',\n",
              " 'form submit ajax time using onsubmit',\n",
              " 'cannot use ternary operator linq query',\n",
              " 'javalangnoclassdeffounderror orgapacheaxis2axisfault axis2kernel154jar class path',\n",
              " 'best event check using datagridviewcheckboxcell',\n",
              " 'speech recognition c# without using windows speech recognition',\n",
              " 'dynamic menu richcombo box ckeditor',\n",
              " 'disadvantages making class serializable java',\n",
              " 'one step check null value emptiness string',\n",
              " 'programmatically open jumplist window specific exe file',\n",
              " 'catch divide 0 error message visual studio 2012',\n",
              " 'getting module file path derived class via inheritance',\n",
              " 'access arraylist string array list javascript',\n",
              " 'read non c# apps textbox using windows api c# windows forms app',\n",
              " 'access javascript variables calling scope',\n",
              " 'windows mobile vs2008 cant connect device',\n",
              " 'pass mains argv function',\n",
              " 'python list operations',\n",
              " 'print frame chrome',\n",
              " 'dynamically adding resource strings',\n",
              " 'error rstudio libuuidso1 cannot open shared object file file directory',\n",
              " 'transaction aborted trying persist user',\n",
              " '0x mean',\n",
              " 'python decimal string',\n",
              " 'see characters nscharacterset swift',\n",
              " 'joomla page load function',\n",
              " 'use mathrandom generate random ints',\n",
              " 'symfony set destroy sessions',\n",
              " 'one add values c enum created',\n",
              " 'nslog messages using leaks',\n",
              " 'netuihwnd directuihwnd',\n",
              " 'returning exact match javascript array using regexp',\n",
              " 'update pagination angularjs filtering',\n",
              " 'type expected error linq expression',\n",
              " 'list view item binding',\n",
              " 'r multiple variables loop',\n",
              " 'migrating article contect joomla 10 25x 3x',\n",
              " 'initializing jframe',\n",
              " 'java multiple line read console',\n",
              " 'storing user input text field nsarray',\n",
              " 'python query keys dictionary based values',\n",
              " 'php mcrypt_module_open causes 500 error',\n",
              " 'linq tolisttake10 vs take10tolist one generates efficient query',\n",
              " 'cannot access local sinatra server another computer network',\n",
              " 'use durability quartz xml',\n",
              " 'process returned 255 0xff code blocks',\n",
              " 'codeigniter call multiple model function single controller function codeigniter',\n",
              " 'yii framwork resizing textbox form',\n",
              " 'problem access local image app workspace local html file app workspace',\n",
              " 'rename json fields used mappingjacksonjsonview spring',\n",
              " 'marshall parameterized type jaxws jaxb',\n",
              " 'diplay tag link wordpress',\n",
              " '3d array cc++ initializationconversion',\n",
              " 'systemexecutionengineexception thrown',\n",
              " 'string encoding shift_jis utf8',\n",
              " 'syntax error access violation 1103 incorrect table name _post array data',\n",
              " 'change font size gradually uilabel',\n",
              " 'concatenate values select inputs radio groups one hidden field value',\n",
              " 'c++ win32 window background redrawing',\n",
              " 'change value htmltextbox using jquery json',\n",
              " 'json empty string deserializes null server side',\n",
              " 'way select bit rate using avplayer http live audio streaming',\n",
              " 'django creating superuser custom user model',\n",
              " 'jqueryajax send data url without showing data webdevelopers',\n",
              " 'merging two datasets 1 column common',\n",
              " 'facebook integration website using facebook login button plugin store user crenditials database',\n",
              " 'modal container auto centering fitting size content inside container',\n",
              " 'angular2 testing whats difference debugelement nativeelement object componentfixture',\n",
              " 'java jdbc driver type_forward_only',\n",
              " 'make yaxis intersect xaxis 0 ggplot2',\n",
              " 'playframework catch deadlock reissue transaction',\n",
              " 'sqlalchemy update postgresql array using merge work',\n",
              " 'stringargument constructorfactory method deserialize string value',\n",
              " 'compare sql datetime c# datetime',\n",
              " 'html5 drag drop events dragleave fires drop',\n",
              " 'validate post code input data',\n",
              " 'download file aspnet web api method using angularjs',\n",
              " 'using javascript rename multiple html files using titletitle file',\n",
              " 'recordingsending screen stream c#',\n",
              " 'download csv google insight search',\n",
              " 'radio button enable text area',\n",
              " 'programmatically added user control create child controls',\n",
              " 'website working firefoxchrome ie',\n",
              " 'adjusting contrast brightness opencv',\n",
              " 'automatic selectall textboxes numericupdown controls gotfocus',\n",
              " 'duplicate certain set javafx 22 nodes',\n",
              " 'referencing mscorlib visual studio 2010',\n",
              " 'jsonnet fails serialize stream works fine serializing string',\n",
              " 'parsing text content url',\n",
              " 'java get json object array',\n",
              " 'use linq group sequence numbers gaps',\n",
              " 'posting checked unchecked checkboxes',\n",
              " 'programatically add uiimage uiimageview add uiimageview another uiview',\n",
              " 'add controls winforms dynamically another thread',\n",
              " 'python tailer logrotate',\n",
              " 'free c++ memory vectorint arr',\n",
              " 'visual studio 2013 caching older version js file',\n",
              " 'threejs draw custom mesh meshlambertmaterial point light',\n",
              " 'get image size loads extern url javascript',\n",
              " 'uncheck html checkbox label',\n",
              " 'java swing popup window losing focus repainting',\n",
              " 'ruby rails timenow',\n",
              " 'angularjs localstorage change event',\n",
              " 'nodejs error error cannot find module mongoose',\n",
              " 'adding new div another one',\n",
              " 'tell rs ggplot2 put tick marks values xaxis still keep vertical lines values',\n",
              " 'submit form inside razor view java script function without redirection',\n",
              " 'extract href queryselectorall',\n",
              " 'put image dynamically created button',\n",
              " 'regex get numbers minus sign',\n",
              " 'uiwebview content visible',\n",
              " 'site shows blank screen ie works fine firefox chrome',\n",
              " 'parsing json php',\n",
              " 'call method jar file jsp',\n",
              " 'installing mysql2 gem ruby 187 mac osx 106',\n",
              " 'binary operator cannot applied operands type string string swift 2 xcode 7',\n",
              " 'randomly generate variable names',\n",
              " 'c# cannot save apostrophe xml',\n",
              " 'changing css controls gridview separately row',\n",
              " 'application spring security dont go beyond login page',\n",
              " 'read gmail contacts using zend framework using oauth',\n",
              " 'windowonload ie7',\n",
              " 'setting minimum maximum date calendar',\n",
              " 'add client script aspnet page dynamically',\n",
              " 'using mousebuttondown pygame',\n",
              " 'get user name owner process net',\n",
              " 'hex string byte array conversion',\n",
              " 'hibernatedaosupport native sql',\n",
              " 'fixing error creation private accessor microsoftvisualstudiotesttoolstypesandsymbolsassembly failed',\n",
              " 'trouble matching multiple patterns ruby regex',\n",
              " 'wicket springbean create bean',\n",
              " 'could get information inmemory layout info net object model',\n",
              " 'exception thread main javalangoutofmemoryerror java heap space base64decoder',\n",
              " 'jquery run function load complete dom updated',\n",
              " 'jquery tab slider',\n",
              " 'simple php compatible video chat service',\n",
              " 'java findread file user input',\n",
              " 'c# simple way bring onelinexmlfiles human readable multi line',\n",
              " 'jquery trigger click vs function call',\n",
              " 'inheritance nested views angularjs',\n",
              " 'syntax declare js scripts',\n",
              " 'javalangclasscastexception orghibernatetypestringtype cannot cast orghibernatetypeversiontype',\n",
              " 'dynamically change auto complete entries c# combobox textbox',\n",
              " 'copy constructor dynamically allocated array',\n",
              " 'calling method object instance creation',\n",
              " 'moving elements scroll',\n",
              " 'writing masked image disk png file',\n",
              " 'net core console applicatin configuration xml',\n",
              " 'convert object listexpandoobject type',\n",
              " 'calculate interest rate java tvm',\n",
              " 'postback javascript function doesnt work aspnet',\n",
              " 'encrypt html php javascript',\n",
              " 'iterate list object lambda expressions',\n",
              " 'convert equation string equation',\n",
              " 'mvc get latitude longitude controller mapview c#',\n",
              " 'c# run cl exe batch cpture output live textbox',\n",
              " 'avoid multiple ajax calls',\n",
              " 'remove label x seconds swift',\n",
              " 'fileuploadhasfile give always false',\n",
              " 'write complex join query cdbcriteria yii framework',\n",
              " 'php extract html data website',\n",
              " 'php mssql_connect working',\n",
              " 'way automatically update proxy object updating service wcf',\n",
              " 'enable button input field empty',\n",
              " 'const char lpcwstr qt',\n",
              " 'event defined firefox ok chrome ie',\n",
              " 'unicodeencodeerror using oslistdir',\n",
              " 'access grant malformed azure ad',\n",
              " 'get pin google maps using location variable',\n",
              " 'gmail smtp authentication',\n",
              " 'binding array pojos request parameter',\n",
              " 'call web service empty soapaction definition',\n",
              " 'create cmd file run jars',\n",
              " 'skrollr relative mode working properly chrome safari',\n",
              " 'set current time field mysql',\n",
              " 'set extbuttonsplit show arrow menu empty',\n",
              " 'captcha image webbrowser control picturebox',\n",
              " 'detect user drop image inside browser current tab viewport',\n",
              " 'react thisstate undefined inside component function',\n",
              " 'getblobreferencefromserver working relative uris error absolute addresses permitted',\n",
              " 'error creating table mysql',\n",
              " 'typegettype work generic classes',\n",
              " 'php pagination limited number records',\n",
              " 'dynamically adding script element div execute script',\n",
              " 'rails fix actionviewmissingtemplate error',\n",
              " 'test private methods nunit',\n",
              " 'exceptionconverter javaioioexception space left device',\n",
              " 'java gui framework good first gui project',\n",
              " 'remove #anchor locationhash url linking page within website',\n",
              " 'installing ffmpeg module php windows server',\n",
              " 'cant connect rabbitmqc using ssl support',\n",
              " 'parse log file using java plot graph',\n",
              " 'getting single value sql adonet',\n",
              " 'swf sandbox violation error #2060 chrome',\n",
              " 'convert svgsvgelement string',\n",
              " 'this_getparam zend framework empty',\n",
              " 'python binaryhex string conversion',\n",
              " 'subtract time php',\n",
              " 'serialize object keeps pointers objects c++',\n",
              " 'passing multiple params rails controller',\n",
              " 'using arrays switch case java',\n",
              " 'loading text iframe loading',\n",
              " 'pandas groupby partial string',\n",
              " 'need create json readwrite java didnt',\n",
              " 'gray overlay custom uibutton getting displayed',\n",
              " 'store array values single variable csv php',\n",
              " 'reading csv datatable without knowing structure',\n",
              " 'split vector n sub vectors rebound',\n",
              " 'php server err_connection_refused',\n",
              " 'uncaught typeerror cannot read property top null',\n",
              " 'system cant find specify file using iis broswer homeaspx file',\n",
              " 'c++ find set pointers',\n",
              " 'incompatible types int nulltype',\n",
              " 'calculate probability given data',\n",
              " 'multiple small files vs one big file http requests',\n",
              " 'java change color string',\n",
              " 'clearinterval doesnt work',\n",
              " 'jsp editable datagrid',\n",
              " 'deserialize javascript associative array c# dictionary jsonnet',\n",
              " 'onactionexecuting web api call map controlleraction class route string read action attributes',\n",
              " 'smtp connect failed',\n",
              " 'swift http post 2d array',\n",
              " 'creating new array contents old array keeping old array static',\n",
              " 'error int tuple connection',\n",
              " 'get loop count using user inputs infinitely loop',\n",
              " 'missing using directive assembly reference wpf xaml',\n",
              " 'catch mouse events powerpoint designer vsto',\n",
              " 'pass value mysql bootstrap modal',\n",
              " 'searching gridview bound sqldatasource using textboxes',\n",
              " 'concat linq query result string',\n",
              " 'executing function page gets windowprint',\n",
              " 'best way declare logger variable java',\n",
              " 'open file clicking hyperlink',\n",
              " 'difference boostchronotime_point boostchronosteady_clocktime_point',\n",
              " 'working testing dates rails',\n",
              " 'insert comment root svg element',\n",
              " 'python file doesnt read whole file iofileio',\n",
              " 'retrieving get variable via php send swf script',\n",
              " 'xcode 8 swift c++',\n",
              " 'set webbrowserdocumenttype',\n",
              " 'use google chrome remote debugging protocol http',\n",
              " 'creating custom slider using jquery ui',\n",
              " 'php parse post data',\n",
              " 'taskscheduler scheduled quartz',\n",
              " 'allow user insert html code without risks technical risks',\n",
              " 'special character getting replaced',\n",
              " 'loading xls msexcel file webview showing error',\n",
              " 'checking null calling free',\n",
              " 'apply syntax file vim',\n",
              " 'java realm get latest inserted item',\n",
              " 'pca categorical features',\n",
              " 'checking cell nil uitableviewcontroller',\n",
              " 'properly set integer value nsdictionary',\n",
              " 'cant getuser using facebook registration plugin',\n",
              " 'error installing pyqt',\n",
              " 'zip function giving incorrect output python',\n",
              " 'make multipleform single submit button action php',\n",
              " 'html select jquery mix working ios',\n",
              " 'line break svg text element',\n",
              " 'extend activity listactivity',\n",
              " 'build several modules using requirejs using one physical configuration file overrides',\n",
              " 'change windows wallpaper using net 40',\n",
              " 'getasync httpclient doesnt work expected',\n",
              " 'alternative session using webapi keep track user',\n",
              " 'saving xml file utf8 encoding',\n",
              " 'go pages wordpress plugin',\n",
              " 'display speed mkmap xcode',\n",
              " 'automapper mapping 2 enum values 1 value',\n",
              " 'java stringsplit regex',\n",
              " 'conversion type dbnull type string valid10',\n",
              " 'bootstrap 3 invisible dropdown ie9 bug fix',\n",
              " 'convert joda localdate joda datetime',\n",
              " 'create menu json file',\n",
              " 'setting default value param attribute controller nil',\n",
              " 'semantic interpretation srgs xml grammar',\n",
              " 'exception immediately expunging mailbox java email',\n",
              " 'pythonic way handle sqlalchemy models',\n",
              " 'getting cannot implicitly convert type decimal bool error',\n",
              " 'query elasticsearch java json',\n",
              " 'codeigniter query times custom file logging',\n",
              " 'magento unit testing',\n",
              " 'jackson json view deserialization',\n",
              " 'remove elements linked list',\n",
              " 'save tuple nsuserdefaults',\n",
              " 'starting address array',\n",
              " 'click link open pdf new window time changing parent window',\n",
              " 'find element insert content next',\n",
              " 'json response parsing using wordpress ajax',\n",
              " 'php foreach doesnt override array value iterating',\n",
              " 'js change text onclick change back onclick ifelse',\n",
              " 'apache poi thousand separator',\n",
              " 'highcharts sparse data hide empty values',\n",
              " 'interopword print preview dialog office 20102013',\n",
              " 'xcode button working inside storyboard',\n",
              " 'check array nonzero values elements',\n",
              " 'drag drop one image another disappear',\n",
              " 'develop pivot table javagroovy',\n",
              " 'remove duplicates elements json file using java else',\n",
              " 'uiactivityindicatorview loading image online',\n",
              " 'call stored procedure firebird database php pdo',\n",
              " 'localhost url works browser returns boolfalse php curl_exec',\n",
              " 'allow users download pictures gifpngjpeg',\n",
              " 'use idatareader use datareader',\n",
              " 'default locale',\n",
              " 'get substring text',\n",
              " 'skip r n string',\n",
              " 'php calling class method class name variable string',\n",
              " 'linq entities orderby',\n",
              " 'spark application javalangoutofmemoryerror direct buffer memory',\n",
              " 'possible run php exec cygwin',\n",
              " 'performance tuning jsf',\n",
              " 'mysql get data table matching ids',\n",
              " 'swapping two nodes linkedlist c',\n",
              " 'nodejs settimeoutfn0 vs setimmediatefn',\n",
              " 'error parsing http request header tomcat 7',\n",
              " 'angular 2 universal serverside rendering',\n",
              " 'threejs accurate ray casting collision detection',\n",
              " 'load google map background div',\n",
              " 'open word doc c#',\n",
              " 'storing image plist',\n",
              " 'rails devise facebook + twitter +',\n",
              " 'display jfreechart chartpanel jpanel generated netbeans',\n",
              " 'c#aspnet iterate table',\n",
              " 'best way send xml string java sockets',\n",
              " 'app access admin level privileges nonrooted device',\n",
              " 'overriding instance method static ones',\n",
              " 'create python tkinter window x close button',\n",
              " 'filter array letter',\n",
              " 'return value ospath python',\n",
              " 'locationservicesenabled always return yes',\n",
              " 'lazy object creation c++ zerocost validation',\n",
              " 'streaming music ipadiphoneipod touch pc airtunes net',\n",
              " 'see styles attached hover pseudo classes firebug chrome debugger',\n",
              " 'override applicationproperties production springboot',\n",
              " 'google script replace function range',\n",
              " 'dealing high traffic right way',\n",
              " 'underlying provider failed open entity framework',\n",
              " 'equalitycomparertdefault works internally',\n",
              " 'set pagination laravel without refreshing whole page',\n",
              " 'angularjs image src change model changes',\n",
              " 'phpini',\n",
              " 'mockito injecting null values spring bean using mock',\n",
              " 'programmatically set textblock margin',\n",
              " 'using nodejs show realtime notification messages php application',\n",
              " 'convert string datetime linqtoentities inside query',\n",
              " 'way use custom control designer avoid gac',\n",
              " 'qt creator linker error lnk1104 cannot open file opencv_core249dlib',\n",
              " 'python call function string',\n",
              " 'raphael js unable create canvas referencing div',\n",
              " 'regular expression alphabetic letter accent',\n",
              " 'objectivec ipad chartgraph',\n",
              " 'execute statement every n iterations python',\n",
              " 'finisarsqlitesqliteexception sql logic error missing database unrecognized token',\n",
              " 'plotting monthly data ggplot',\n",
              " 'add external input value form submit',\n",
              " 'find first day next month remaining days till date php',\n",
              " 'relationshipnode chartsgraphs using javascript something else',\n",
              " 'class declares multiple json fields',\n",
              " 'wrap echo textarea using php',\n",
              " 'django updating single model',\n",
              " 'django custom user model admin relation auth_user exist',\n",
              " 'laravel 4 load different layout particular method',\n",
              " 'linq result empty',\n",
              " 'google credential service account',\n",
              " 'list orderby alphabetical order',\n",
              " 'javascript submit page 30 seconds',\n",
              " 'printing rdlc report without preview web application iis mode',\n",
              " 'word 2007 documents visual studio 2010',\n",
              " 'whats best way serialize javascript objects xml',\n",
              " 'use mongodbexport python shell script',\n",
              " 'stop executing page loading',\n",
              " 'exception thread main javalangnoclassdeffounderror wrong name command prompt',\n",
              " 'view prepared pdo sql statement',\n",
              " 'set form minimum size',\n",
              " 'difference uint32 unsigned int c++',\n",
              " 'pass double value textview android im new',\n",
              " 'invoke parent private method child',\n",
              " 'form validation angularjs ionic doesnt work',\n",
              " 'change text span element clicking using jquery',\n",
              " 'get next item laravel collection',\n",
              " 'add png jbutton',\n",
              " 'error passing 2d char array function',\n",
              " 'stdsignal stdraise threadsafe',\n",
              " 'aspnet mvc passing model referencing different assembly controller view using c#',\n",
              " 'get started mean stack',\n",
              " 'tell python script use particular version',\n",
              " 'jquery sum class li value',\n",
              " 'passing argument using add_action wordpress',\n",
              " 'access nested elements json object using getjsonarray method',\n",
              " 'c# serialize second level element property',\n",
              " 'happens call notify thread waiting',\n",
              " 'd3js insert new sibling elements',\n",
              " 'customisations tabularinline django',\n",
              " 'get php self get variables',\n",
              " 'event triggered tab load loading tab ajax',\n",
              " 'socket programming single computer',\n",
              " 'change value div',\n",
              " 'cant correctly import external js aurelia application datatables',\n",
              " 'python requests_ntlm import error',\n",
              " 'using dependency injection pojos inject ejbs',\n",
              " 'sqlite wal mode multiple transactions multiple threads',\n",
              " 'opengl alpha blending wrong color',\n",
              " 'redeclaring function parameters variables',\n",
              " 'migrate existing site cms like drupal framework like zend neither',\n",
              " 'encoding problem',\n",
              " 'changing queries table adapter database connection',\n",
              " 'smooth uitextview auto scroll bottom frame',\n",
              " 'cant connect mongodb database user php',\n",
              " 'get class name without instance class php',\n",
              " 'passportjs localstrategy allow parameters default username password',\n",
              " 'multi selection drop menu',\n",
              " 'play framework 2 running unit tests intellij idea 13',\n",
              " 'python split path recursively',\n",
              " 'speed exceptions java',\n",
              " 'modify initcomponents netbeans',\n",
              " 'want create multiple pdfs loop using dompdf',\n",
              " 'phpunit code coverage gives zend_mm_heap corrupted segmentation fault 11',\n",
              " 'using string array hashmap java',\n",
              " 'use index variable jstl foreach loop access map entry',\n",
              " 'get result mysql_query inside mysql_fetch_array',\n",
              " 'show d3 chart using bootstrap modal popup click button download image format',\n",
              " 'find cluster sizes 2d numpy array',\n",
              " 'ninject binding identity usermanager',\n",
              " 'run aspnet web application another machine',\n",
              " 'transferring one datagridview data another datagridview vbnet',\n",
              " 'defer attribute chrome',\n",
              " 'check kind pdf reader installed',\n",
              " 'whats easiest way java swing client consumer webservice',\n",
              " 'apache poi getting exact font color excel java',\n",
              " 'initialize empty vector structure c++',\n",
              " 'edit textfield selected text color javafx',\n",
              " 'tree traversal java iterative recursive',\n",
              " 'get enum values list string java 8',\n",
              " 'c++ templatesgeneric programming vs polymorphism',\n",
              " 'clear stack visual studio immediate window',\n",
              " 'mvc3 validationattribute validationcontextmembername null',\n",
              " 'awaiting async task showing modal form method handled',\n",
              " 'getting razor view understand linq sql objects',\n",
              " 'using java variable sql statement',\n",
              " 'python program run computer without python cc++',\n",
              " 'stop winsound stop thread python',\n",
              " 'fatal error call member function query nonobject php file',\n",
              " 'java list string array remove',\n",
              " 'jtextfield inner fields preformated format something like ip field windows',\n",
              " 'opencv python error assertion failed sizewidth0 sizeheight0',\n",
              " 'display one div time',\n",
              " 'calculate time difference strings javascript',\n",
              " 'set background color mac osx objective c',\n",
              " 'open file remote network share',\n",
              " 'save id autocomplete field instead text jquery autocomplete rails3',\n",
              " 'passing values dynamically created textboxes array using javascript',\n",
              " 'android studio gradle issues invalid gradle jdk configuration found',\n",
              " 'onitemselectedlistener working tab fragment',\n",
              " 'activemq stops sending messages queue consumer case consumer acknowledging messages',\n",
              " 'get cakephp bake find mysqlsock recognize mysql using mamp mac osx',\n",
              " 'circular references warnings caused forward declarations object c',\n",
              " 'sum digits even odd places c',\n",
              " 'include function inside another function',\n",
              " 'infinite loop gettersetter c#',\n",
              " 'detect uitableview scroll past bottomtop',\n",
              " 'object relational mapping insert update stored procedures',\n",
              " 'angular js directive unloading event equivalent',\n",
              " 'usual practice combine minify external js libraries css files',\n",
              " 'initialise class object name',\n",
              " 'using href link servlet',\n",
              " 'using java parse csv save 2d array',\n",
              " 'jquery auto print row number',\n",
              " 'cannot implicitly convert type string microsoftsqlserverdtsruntimevariable',\n",
              " 'python list list __getitem__',\n",
              " 'definite selenium solution modal pop dialogs internet explorer java',\n",
              " 'cache jquery objects',\n",
              " 'get translate3d values div',\n",
              " 'javalangclasscastexception androidwidgetlinearlayout cannot cast androidwidgettextview using arrayadapter',\n",
              " 'pushing mysql data javascript php',\n",
              " 'appengine apps vs google bot web crawler',\n",
              " 'difference interface abstract class',\n",
              " 'firefox firebug extension freeze javascript feature',\n",
              " 'store data contains quotes mysql',\n",
              " 'shouldnt functions async default',\n",
              " 'scikit learn creation dummy variables',\n",
              " 'plotting histograms grouped data pandas dataframe',\n",
              " 'load image static method',\n",
              " 'declare carray header file',\n",
              " 'convert character entities unicode equivalents',\n",
              " 'owin openid provider getexternallogininfo returns null',\n",
              " 'pure virtual function cannot inline',\n",
              " 'mvc4 create script bundle razor file',\n",
              " 'strange fatal error call undefined method phpmailersetfrom codeigniter',\n",
              " 'cannot use object array php',\n",
              " 'refresh button iframe jquery javascript',\n",
              " 'splash screen animation supporting xcode 7 gmios9 app crashes error',\n",
              " 'wpf window detect first show',\n",
              " 'google maps jsp spring',\n",
              " 'javascript generated typescript',\n",
              " 'make python 3x enter text web browser',\n",
              " 'jquery accordion activate external links',\n",
              " 'delete multiple rows table angularjs',\n",
              " 'could affect python string comparison performance strings 64 characters',\n",
              " 'running django project without django installation',\n",
              " 'rails upgrade 323 3211',\n",
              " 'using blocks reload uitableview data crashes',\n",
              " 'best practice handle backing bean initialization jsf 20 jsf20',\n",
              " 'file load error running rspec',\n",
              " 'xml validation xsds java',\n",
              " 'accessing attributes attr raphael element triggering mouseover event',\n",
              " 'write jump instruction c',\n",
              " 'property found object type',\n",
              " 'populate matrix values another matrix r',\n",
              " 'allow access php file another php file direct url',\n",
              " 'change json structure',\n",
              " 'local global static variables c++',\n",
              " 'get type name object property name',\n",
              " 'reduce lag jframe painting',\n",
              " 'convert complex filename html link',\n",
              " 'use typeid store type_info object',\n",
              " 'c++ metatemplates required knowledge programmers',\n",
              " 'python regex gets last occurrence',\n",
              " 'optimizing tomcat garbage collection',\n",
              " 'uialertview buttonssubviews showing ios 7',\n",
              " 'executable jar file running',\n",
              " 'suggestions open source aspectoriented library c#',\n",
              " 'resize images using javascript scale real resize',\n",
              " 'jquery ui datepicker date range issue',\n",
              " 'printing odd numbered characters string without string slicing',\n",
              " 'make checkbox win32',\n",
              " 'scrolling zooming div',\n",
              " 'test nginx proxy timeouts',\n",
              " 'fixedpoint arithmetic',\n",
              " 'eval function work php',\n",
              " 'java reflection set value class object dynamically created',\n",
              " 'checking file last modified c# windows os',\n",
              " 'iterating users feed using javascript sdk',\n",
              " 'c# determine duplicate list',\n",
              " 'wpf combobox default selection itemssource',\n",
              " 'django questionhow pass list parameter using post method',\n",
              " 'return value done jquery ajax',\n",
              " 'entity framework paged join unions',\n",
              " 'possible ways happen memory leaks using jsp servlets development mode',\n",
              " 'contextsavechanges linq',\n",
              " 'nodename sometimes allcaps javascript dom',\n",
              " 'syntax error unexpected end input parsejson',\n",
              " 'transactional file writing c# windows',\n",
              " 'use multithreading would multi threading beneficial different threads execute mutually independent tasks',\n",
              " 'jquery dropdown menu',\n",
              " 'get maximum size resize excel worksheet',\n",
              " 'include get_template_part',\n",
              " 'select specific part array two arrays returned',\n",
              " 'advantages apache wicket',\n",
              " 'send email php specified time',\n",
              " 'creating set uniformly distributed random numbers',\n",
              " 'disable caching via configuration yii',\n",
              " 'unable create math object java',\n",
              " 'python socket error 35',\n",
              " 'two realms application spring security',\n",
              " 'using python subprocesscall crontab',\n",
              " 'updating python use aws cli',\n",
              " 'performing multiple database operations single rest call',\n",
              " 'databinding variable c# textblock wpf application working',\n",
              " 'c++ opengl drawing room',\n",
              " ...]"
            ]
          },
          "metadata": {
            "tags": []
          },
          "execution_count": 19
        }
      ]
    },
    {
      "cell_type": "markdown",
      "metadata": {
        "id": "4oKUQc2gjhEp"
      },
      "source": [
        "We are assuming that *tags_counts* and *words_counts* are dictionaries like `{'some_word_or_tag': frequency}`. After applying the sorting procedure, results will be look like this: `[('most_popular_word_or_tag', frequency), ('less_popular_word_or_tag', frequency), ...]`."
      ]
    },
    {
      "cell_type": "code",
      "metadata": {
        "id": "u_lgy0WvjhEq"
      },
      "source": [
        "most_common_tags = sorted(tags_counts.items(), key=lambda x: x[1], reverse=True)[:3]\n",
        "most_common_words = sorted(words_counts.items(), key=lambda x: x[1], reverse=True)[:3]\n"
      ],
      "execution_count": null,
      "outputs": []
    },
    {
      "cell_type": "markdown",
      "metadata": {
        "id": "TfAkh5AkjhEu"
      },
      "source": [
        "### Transforming text to a vector\n",
        "\n",
        "Machine Learning algorithms work with numeric data and we cannot use the provided text data \"as is\". There are many ways to transform text data to numeric vectors. In this task you will try to use two of them.\n",
        "\n",
        "#### Bag of words\n",
        "\n",
        "One of the well-known approaches is a *bag-of-words* representation. To create this transformation, follow the steps:\n",
        "1. Find *N* most popular words in train corpus and numerate them. Now we have a dictionary of the most popular words.\n",
        "2. For each title in the corpora create a zero vector with the dimension equals to *N*.\n",
        "3. For each text in the corpora iterate over words which are in the dictionary and increase by 1 the corresponding coordinate.\n",
        "\n",
        "Let's try to do it for a toy example. Imagine that we have *N* = 4 and the list of the most popular words is \n",
        "\n",
        "    ['hi', 'you', 'me', 'are']\n",
        "\n",
        "Then we need to numerate them, for example, like this: \n",
        "\n",
        "    {'hi': 0, 'you': 1, 'me': 2, 'are': 3}\n",
        "\n",
        "And we have the text, which we want to transform to the vector:\n",
        "\n",
        "    'hi how are you'\n",
        "\n",
        "For this text we create a corresponding zero vector \n",
        "\n",
        "    [0, 0, 0, 0]\n",
        "    \n",
        "And iterate over all words, and if the word is in the dictionary, we increase the value of the corresponding position in the vector:\n",
        "\n",
        "    'hi':  [1, 0, 0, 0]\n",
        "    'how': [1, 0, 0, 0] # word 'how' is not in our dictionary\n",
        "    'are': [1, 0, 0, 1]\n",
        "    'you': [1, 1, 0, 1]\n",
        "\n",
        "The resulting vector will be \n",
        "\n",
        "    [1, 1, 0, 1]\n",
        "   \n",
        "Implement the described encoding in the function *my_bag_of_words* with the size of the dictionary equals to 5000. To find the most common words use train data. Testing code using the function *test_my_bag_of_words*."
      ]
    },
    {
      "cell_type": "code",
      "metadata": {
        "id": "VXCWMin9jhEv"
      },
      "source": [
        "DICT_SIZE = 5000\n",
        "vocabulary=words_counts.most_common(DICT_SIZE)\n",
        "WORDS_TO_INDEX={word[0]:index for index,word in enumerate(vocabulary) }\n",
        "INDEX_TO_WORD={index:word[0] for index,word in enumerate(vocabulary) }\n",
        "ALL_WORDS = WORDS_TO_INDEX.keys()\n",
        "def my_bag_of_words(text, words_to_index, dict_size):\n",
        "    \"\"\"\n",
        "        text: a string\n",
        "        dict_size: size of the dictionary\n",
        "        \n",
        "        return a vector which is a bag-of-words representation of 'text'\n",
        "    \"\"\"\n",
        "    result_vector = np.zeros(dict_size)\n",
        "    array_words = list(*[word_tokenize(s) for s in sent_tokenize(text)])\n",
        "    for word in array_words:\n",
        "      index=words_to_index.get(word)\n",
        "      if index!= None:\n",
        "        result_vector[index]+=1\n",
        "    return result_vector"
      ],
      "execution_count": null,
      "outputs": []
    },
    {
      "cell_type": "code",
      "metadata": {
        "id": "zEAypBPvjhEz"
      },
      "source": [
        "def test_my_bag_of_words():\n",
        "    words_to_index = {'hi': 0, 'you': 1, 'me': 2, 'are': 3}\n",
        "    examples = ['hi how are you']\n",
        "    answers = [[1, 1, 0, 1]]\n",
        "    for ex, ans in zip(examples, answers): \n",
        "      if (my_bag_of_words(ex, words_to_index, 4) != ans).any():\n",
        "        return \"Wrong answer for the case: '%s'\" % ex\n",
        "    return 'Basic tests are passed.'"
      ],
      "execution_count": null,
      "outputs": []
    },
    {
      "cell_type": "code",
      "metadata": {
        "id": "3MZy5DaUjhE4",
        "colab": {
          "base_uri": "https://localhost:8080/"
        },
        "outputId": "51c5d210-6eef-47aa-c2c6-3e02a751506c"
      },
      "source": [
        "print(test_my_bag_of_words())"
      ],
      "execution_count": null,
      "outputs": [
        {
          "output_type": "stream",
          "text": [
            "Basic tests are passed.\n"
          ],
          "name": "stdout"
        }
      ]
    },
    {
      "cell_type": "markdown",
      "metadata": {
        "id": "Li5o0Le8jhE8"
      },
      "source": [
        "Now applying the implemented function to all samples (this might take up to a minute):"
      ]
    },
    {
      "cell_type": "code",
      "metadata": {
        "id": "phup83a6jhE9"
      },
      "source": [
        "from scipy import sparse as sp_sparse"
      ],
      "execution_count": null,
      "outputs": []
    },
    {
      "cell_type": "code",
      "metadata": {
        "id": "SxyDQEGqjhFB",
        "colab": {
          "base_uri": "https://localhost:8080/"
        },
        "outputId": "5b595485-934e-4d73-ec45-46f10531f1d2"
      },
      "source": [
        "X_train_mybag = sp_sparse.vstack([sp_sparse.csr_matrix(my_bag_of_words(text, WORDS_TO_INDEX, DICT_SIZE)) for text in X_train])\n",
        "X_val_mybag = sp_sparse.vstack([sp_sparse.csr_matrix(my_bag_of_words(text, WORDS_TO_INDEX, DICT_SIZE)) for text in X_val])\n",
        "X_test_mybag = sp_sparse.vstack([sp_sparse.csr_matrix(my_bag_of_words(text, WORDS_TO_INDEX, DICT_SIZE)) for text in X_test])\n",
        "print('X_train shape ', X_train_mybag.shape)\n",
        "print('X_val shape ', X_val_mybag.shape)\n",
        "print('X_test shape ', X_test_mybag.shape)"
      ],
      "execution_count": null,
      "outputs": [
        {
          "output_type": "stream",
          "text": [
            "X_train shape  (100000, 5000)\n",
            "X_val shape  (30000, 5000)\n",
            "X_test shape  (20000, 5000)\n"
          ],
          "name": "stdout"
        }
      ]
    },
    {
      "cell_type": "markdown",
      "metadata": {
        "id": "6JUO6VVKjhFE"
      },
      "source": [
        "As you might notice, we transform the data to sparse representation, to store the useful information efficiently. There are many [types](https://docs.scipy.org/doc/scipy/reference/sparse.html) of such representations, however sklearn algorithms can work only with [csr](https://docs.scipy.org/doc/scipy/reference/generated/scipy.sparse.csr_matrix.html#scipy.sparse.csr_matrix) matrix, so we will use this one."
      ]
    },
    {
      "cell_type": "markdown",
      "metadata": {
        "id": "aYCTnaFwjhFF"
      },
      "source": [
        "**Task 3 (BagOfWords).** For the 11th row in *X_train_mybag* find how many non-zero elements it has. In this task the answer (variable *non_zero_elements_count*) should be an integer number, e.g. 20."
      ]
    },
    {
      "cell_type": "code",
      "metadata": {
        "id": "3sTO6mDDjhFF"
      },
      "source": [
        "row = X_train_mybag[10].toarray()[0]\n",
        "non_zero_elements_count = np.count_nonzero(row)\n"
      ],
      "execution_count": null,
      "outputs": []
    },
    {
      "cell_type": "markdown",
      "metadata": {
        "id": "5kbvYK9HjhFK"
      },
      "source": [
        "#### TF-IDF\n",
        "\n",
        "The second approach extends the bag-of-words framework by taking into account total frequencies of words in the corpora. It helps to penalize too frequent words and provide better features space. \n",
        "\n",
        "Implementing function *tfidf_features* using class [TfidfVectorizer](http://scikit-learn.org/stable/modules/generated/sklearn.feature_extraction.text.TfidfVectorizer.html) from *scikit-learn*. Using *train* corpus to train a vectorizer."
      ]
    },
    {
      "cell_type": "code",
      "metadata": {
        "id": "bT8GoK9sjhFK"
      },
      "source": [
        "from sklearn.feature_extraction.text import TfidfVectorizer"
      ],
      "execution_count": null,
      "outputs": []
    },
    {
      "cell_type": "code",
      "metadata": {
        "id": "_ZU3nkz3jhFO"
      },
      "source": [
        "def tfidf_features(X_train, X_val, X_test):\n",
        "    \"\"\"\n",
        "        X_train, X_val, X_test — samples        \n",
        "        return TF-IDF vectorized representation of each sample and vocabulary\n",
        "    \"\"\"\n",
        "    tfidf_vectorizer = TfidfVectorizer(ngram_range=(1,2),token_pattern='(\\S+)')\n",
        "    X_train = tfidf_vectorizer.fit_transform(X_train)\n",
        "    X_test = tfidf_vectorizer.transform(X_test)\n",
        "    X_val = tfidf_vectorizer.transform(X_val)\n",
        "    \n",
        "    return X_train, X_val, X_test, tfidf_vectorizer.vocabulary_"
      ],
      "execution_count": null,
      "outputs": []
    },
    {
      "cell_type": "markdown",
      "metadata": {
        "id": "70-DnEo6jhFR"
      },
      "source": [
        "checking whether  c++ or c# are in the vocabulary, as they are obviously important tokens in our tags prediction task:"
      ]
    },
    {
      "cell_type": "code",
      "metadata": {
        "id": "2582UDMLjhFS"
      },
      "source": [
        "X_train_tfidf, X_val_tfidf, X_test_tfidf, tfidf_vocab = tfidf_features(X_train, X_val, X_test)\n",
        "tfidf_reversed_vocab = {i:word for word,i in tfidf_vocab.items()}"
      ],
      "execution_count": null,
      "outputs": []
    },
    {
      "cell_type": "code",
      "metadata": {
        "id": "JBMMII2KPhbw",
        "colab": {
          "base_uri": "https://localhost:8080/"
        },
        "outputId": "c97014bc-6565-41a2-eeec-9e6ceddc79a4"
      },
      "source": [
        "type(X_train_tfidf)"
      ],
      "execution_count": null,
      "outputs": [
        {
          "output_type": "execute_result",
          "data": {
            "text/plain": [
              "scipy.sparse.csr.csr_matrix"
            ]
          },
          "metadata": {
            "tags": []
          },
          "execution_count": 31
        }
      ]
    },
    {
      "cell_type": "code",
      "metadata": {
        "id": "9uveYvXejhFV",
        "colab": {
          "base_uri": "https://localhost:8080/"
        },
        "outputId": "6e3fbbc8-7151-4838-a098-074176d43ef4"
      },
      "source": [
        "'c#' in tfidf_reversed_vocab.values()"
      ],
      "execution_count": null,
      "outputs": [
        {
          "output_type": "execute_result",
          "data": {
            "text/plain": [
              "True"
            ]
          },
          "metadata": {
            "tags": []
          },
          "execution_count": 32
        }
      ]
    },
    {
      "cell_type": "code",
      "metadata": {
        "id": "M5tHFTC9hZX8",
        "colab": {
          "base_uri": "https://localhost:8080/"
        },
        "outputId": "d7a52a20-b691-4c64-a23d-5d4197f75ee2"
      },
      "source": [
        "'c++' in tfidf_reversed_vocab.values()"
      ],
      "execution_count": null,
      "outputs": [
        {
          "output_type": "execute_result",
          "data": {
            "text/plain": [
              "True"
            ]
          },
          "metadata": {
            "tags": []
          },
          "execution_count": 33
        }
      ]
    },
    {
      "cell_type": "code",
      "metadata": {
        "id": "UXQ_BHTUjhFa",
        "colab": {
          "base_uri": "https://localhost:8080/"
        },
        "outputId": "5bcd4ca4-a15a-49a3-f736-b6cc9a71521b"
      },
      "source": [
        "y_train"
      ],
      "execution_count": null,
      "outputs": [
        {
          "output_type": "execute_result",
          "data": {
            "text/plain": [
              "array([list(['r']), list(['php', 'mysql']), list(['c#']), ...,\n",
              "       list(['python', 'datetime', 'pandas']),\n",
              "       list(['javascript', 'jquery']), list(['java', 'list', 'generics'])],\n",
              "      dtype=object)"
            ]
          },
          "metadata": {
            "tags": []
          },
          "execution_count": 34
        }
      ]
    },
    {
      "cell_type": "markdown",
      "metadata": {
        "id": "ss9NUCvKjhFd"
      },
      "source": [
        "### MultiLabel classifier\n",
        "\n",
        "As we have noticed before, in this task each example can have multiple tags. To deal with such kind of prediction, we need to transform labels in a binary form and the prediction will be a mask of 0s and 1s. For this purpose it is convenient to use [MultiLabelBinarizer](http://scikit-learn.org/stable/modules/generated/sklearn.preprocessing.MultiLabelBinarizer.html) from *sklearn*."
      ]
    },
    {
      "cell_type": "code",
      "metadata": {
        "id": "G7dIpaIsjhFd"
      },
      "source": [
        "from sklearn.preprocessing import MultiLabelBinarizer"
      ],
      "execution_count": null,
      "outputs": []
    },
    {
      "cell_type": "code",
      "metadata": {
        "id": "o8FLLNqejhFi"
      },
      "source": [
        "mlb = MultiLabelBinarizer(classes=sorted(tags_counts.keys()))\n",
        "y_train = mlb.fit_transform(y_train)"
      ],
      "execution_count": null,
      "outputs": []
    },
    {
      "cell_type": "code",
      "metadata": {
        "id": "M1FQsmhtlR01"
      },
      "source": [
        "y_val = mlb.transform(y_val)"
      ],
      "execution_count": null,
      "outputs": []
    },
    {
      "cell_type": "markdown",
      "metadata": {
        "id": "zgH5JyBhjhFl"
      },
      "source": [
        "Implementing the function *train_classifier* for training a classifier by using One-vs-Rest approach, which is implemented in [OneVsRestClassifier](http://scikit-learn.org/stable/modules/generated/sklearn.multiclass.OneVsRestClassifier.html) class. In this approach *k* classifiers (= number of tags) are trained. As a basic classifier, use [LogisticRegression](http://scikit-learn.org/stable/modules/generated/sklearn.linear_model.LogisticRegression.html). It is one of the simplest methods, but often it performs good enough in text classification tasks. It might take some time, because a number of classifiers to train is large."
      ]
    },
    {
      "cell_type": "code",
      "metadata": {
        "id": "uDObkG4mjhFm"
      },
      "source": [
        "from sklearn.multiclass import OneVsRestClassifier\n",
        "from sklearn.linear_model import LogisticRegression, RidgeClassifier"
      ],
      "execution_count": null,
      "outputs": []
    },
    {
      "cell_type": "code",
      "metadata": {
        "id": "4_tkAuGujhFo"
      },
      "source": [
        "def train_classifier(X_train, y_train):\n",
        "    \"\"\"\n",
        "      X_train, y_train — training data\n",
        "      \n",
        "      return: trained classifier\n",
        "    \"\"\"  \n",
        "    clf = OneVsRestClassifier(LogisticRegression(random_state=0,max_iter=200)).fit(X_train, y_train) \n",
        "    return clf"
      ],
      "execution_count": null,
      "outputs": []
    },
    {
      "cell_type": "markdown",
      "metadata": {
        "id": "5Sudg1GDjhFr"
      },
      "source": [
        "Training the classifiers for different data transformations: *bag-of-words* and *tf-idf*.\n"
      ]
    },
    {
      "cell_type": "code",
      "metadata": {
        "id": "bfb0_5M-jhFs"
      },
      "source": [
        "classifier_mybag = train_classifier(X_train_mybag, y_train)\n",
        "\n"
      ],
      "execution_count": null,
      "outputs": []
    },
    {
      "cell_type": "code",
      "metadata": {
        "id": "yzPu3AnSn2FN"
      },
      "source": [
        "classifier_tfidf = train_classifier(X_train_tfidf, y_train)"
      ],
      "execution_count": null,
      "outputs": []
    },
    {
      "cell_type": "markdown",
      "metadata": {
        "id": "9kzlXg-RjhFy"
      },
      "source": [
        "Now we can create predictions for the data. We will need two types of predictions: labels and scores."
      ]
    },
    {
      "cell_type": "code",
      "metadata": {
        "id": "lN1zG0vRjhF3"
      },
      "source": [
        "\n",
        "y_val_predicted_labels_mybag = classifier_mybag.predict(X_val_mybag)\n",
        "y_val_predicted_scores_mybag = classifier_mybag.decision_function(X_val_mybag)\n",
        "\n"
      ],
      "execution_count": null,
      "outputs": []
    },
    {
      "cell_type": "code",
      "metadata": {
        "id": "NeZLj8Ozv-ka"
      },
      "source": [
        "y_val_predicted_labels_tfidf = classifier_tfidf.predict(X_val_tfidf)\n",
        "y_val_predicted_scores_tfidf = classifier_tfidf.decision_function(X_val_tfidf)"
      ],
      "execution_count": null,
      "outputs": []
    },
    {
      "cell_type": "code",
      "metadata": {
        "id": "5dlxOWOB1qJ8"
      },
      "source": [
        ""
      ],
      "execution_count": null,
      "outputs": []
    },
    {
      "cell_type": "markdown",
      "metadata": {
        "id": "cerYB4WUjhF9"
      },
      "source": [
        "Now take a look at how classifier, which uses TF-IDF, works for a few examples:"
      ]
    },
    {
      "cell_type": "code",
      "metadata": {
        "id": "pizpjUwDjhF-",
        "colab": {
          "base_uri": "https://localhost:8080/"
        },
        "outputId": "3f458699-83a8-4571-84cb-aeb12d51eec7"
      },
      "source": [
        "y_val_pred_inversed = mlb.inverse_transform(y_val_predicted_labels_tfidf)\n",
        "y_val_inversed = mlb.inverse_transform(y_val)\n",
        "for i in range(3):\n",
        "    print('Title:\\t{}\\nTrue labels:\\t{}\\nPredicted labels:\\t{}\\n\\n'.format(\n",
        "        X_val[i],\n",
        "        ','.join(y_val_inversed[i]),\n",
        "        ','.join(y_val_pred_inversed[i])\n",
        "    ))"
      ],
      "execution_count": null,
      "outputs": [
        {
          "output_type": "stream",
          "text": [
            "Title:\todbc_exec always fail\n",
            "True labels:\tphp,sql\n",
            "Predicted labels:\t\n",
            "\n",
            "\n",
            "Title:\taccess base classes variable within child class\n",
            "True labels:\tjavascript\n",
            "Predicted labels:\t\n",
            "\n",
            "\n",
            "Title:\tcontenttype applicationjson required rails\n",
            "True labels:\truby,ruby-on-rails\n",
            "Predicted labels:\truby-on-rails\n",
            "\n",
            "\n"
          ],
          "name": "stdout"
        }
      ]
    },
    {
      "cell_type": "markdown",
      "metadata": {
        "id": "mw7h3VXqjhGD"
      },
      "source": [
        "Now, we would need to compare the results of different predictions, e.g. to see whether TF-IDF transformation helps or to try different regularization techniques in logistic regression. For all these experiments, we need to setup evaluation procedure. "
      ]
    },
    {
      "cell_type": "markdown",
      "metadata": {
        "id": "XW_ohD7MjhGE"
      },
      "source": [
        "### Evaluation\n",
        "\n",
        "To evaluate the results we will use several classification metrics:\n",
        " - [Accuracy](http://scikit-learn.org/stable/modules/generated/sklearn.metrics.accuracy_score.html)\n",
        " - [F1-score](http://scikit-learn.org/stable/modules/generated/sklearn.metrics.f1_score.html)\n",
        " - [Area under ROC-curve](http://scikit-learn.org/stable/modules/generated/sklearn.metrics.roc_auc_score.html)\n",
        " - [Area under precision-recall curve](http://scikit-learn.org/stable/modules/generated/sklearn.metrics.average_precision_score.html#sklearn.metrics.average_precision_score) \n",
        " "
      ]
    },
    {
      "cell_type": "code",
      "metadata": {
        "id": "hAWe4mAFjhGF"
      },
      "source": [
        "from sklearn.metrics import accuracy_score\n",
        "from sklearn.metrics import f1_score\n",
        "from sklearn.metrics import roc_auc_score \n",
        "from sklearn.metrics import average_precision_score\n",
        "from sklearn.metrics import recall_score"
      ],
      "execution_count": null,
      "outputs": []
    },
    {
      "cell_type": "markdown",
      "metadata": {
        "id": "6eMjHs70jhGP"
      },
      "source": [
        "Implementing the function *print_evaluation_scores* which calculates and prints to stdout:\n",
        " - *accuracy*\n",
        " - *F1-score macro/micro/weighted*\n",
        " - *Precision macro/micro/weighted*"
      ]
    },
    {
      "cell_type": "code",
      "metadata": {
        "id": "sTN7ZLnXjhGQ"
      },
      "source": [
        "def print_evaluation_scores(y_val, predicted):\n",
        "    \n",
        "    print('Accuracy:'+ str(accuracy_score(y_val, predicted)))\n",
        "    print('Micro F1-Score:'+ str(roc_auc_score(y_val, predicted, average='micro')))\n",
        "    print('Macro F1-Score:'+ str(roc_auc_score(y_val, predicted, average='macro')))\n",
        "    print('Weighted F1-Score:'+ str(roc_auc_score(y_val, predicted, average='weighted')))\n",
        "\n",
        "    print('Micro Precision Score:'+ str(average_precision_score(y_val, predicted, average='micro')))\n",
        "    print('Macro Precision Score:'+ str(average_precision_score(y_val, predicted, average='macro')))\n",
        "    print('Weighted Precision Score:'+ str(average_precision_score(y_val, predicted, average='weighted')))\n"
      ],
      "execution_count": null,
      "outputs": []
    },
    {
      "cell_type": "code",
      "metadata": {
        "id": "yZY2bU-9jhGU",
        "colab": {
          "base_uri": "https://localhost:8080/"
        },
        "outputId": "03e4719a-0841-4c9c-db08-666ae2a5203f"
      },
      "source": [
        "print('Bag-of-words')\n",
        "print_evaluation_scores(y_val, y_val_predicted_labels_mybag)\n",
        "print('Tfidf')\n",
        "print_evaluation_scores(y_val, y_val_predicted_labels_tfidf)"
      ],
      "execution_count": null,
      "outputs": [
        {
          "output_type": "stream",
          "text": [
            "Bag-of-words\n",
            "Accuracy:0.3534\n",
            "Micro F1-Score:0.771188580018956\n",
            "Macro F1-Score:0.7005840998517958\n",
            "Weighted F1-Score:0.7685637700487317\n",
            "Micro Precision Score:0.47413172429587663\n",
            "Macro Precision Score:0.3379034179791469\n",
            "Weighted Precision Score:0.5040441577223704\n",
            "Tfidf\n",
            "Accuracy:0.32653333333333334\n",
            "Micro F1-Score:0.7542751936644578\n",
            "Macro F1-Score:0.6833319610447418\n",
            "Weighted F1-Score:0.7520874378654764\n",
            "Micro Precision Score:0.44891401983651325\n",
            "Macro Precision Score:0.31384650370517486\n",
            "Weighted Precision Score:0.48199849169506437\n"
          ],
          "name": "stdout"
        }
      ]
    },
    {
      "cell_type": "markdown",
      "metadata": {
        "id": "IG4dVlCHjhGX"
      },
      "source": [
        "We can plot some generalization of the [ROC curve](http://scikit-learn.org/stable/modules/model_evaluation.html#receiver-operating-characteristic-roc) for the case of multi-label classification. Function *roc_auc* can make it. The input parameters of this function are:\n",
        " - true labels\n",
        " - decision functions scores\n",
        " - number of classes"
      ]
    },
    {
      "cell_type": "code",
      "metadata": {
        "id": "XyWGNKemjhGX"
      },
      "source": [
        "from metrics import roc_auc\n",
        "%matplotlib inline"
      ],
      "execution_count": null,
      "outputs": []
    },
    {
      "cell_type": "code",
      "metadata": {
        "id": "NH6fjFzjjhGf",
        "colab": {
          "base_uri": "https://localhost:8080/",
          "height": 295
        },
        "outputId": "98f75b3a-e75c-4b57-9391-845b3faa9cf1"
      },
      "source": [
        "n_classes = len(tags_counts)\n",
        "roc_auc(y_val, y_val_predicted_scores_mybag, n_classes)"
      ],
      "execution_count": null,
      "outputs": [
        {
          "output_type": "display_data",
          "data": {
            "image/png": "[encoded data removed]",
            "text/plain": [
              "<Figure size 432x288 with 1 Axes>"
            ]
          },
          "metadata": {
            "tags": [],
            "needs_background": "light"
          }
        }
      ]
    },
    {
      "cell_type": "code",
      "metadata": {
        "id": "gsgI0d65jhGi",
        "colab": {
          "base_uri": "https://localhost:8080/",
          "height": 295
        },
        "outputId": "899b6b74-4c8a-479b-c832-e5bc7e46d7e2"
      },
      "source": [
        "n_classes = len(tags_counts)\n",
        "roc_auc(y_val, y_val_predicted_scores_tfidf, n_classes)"
      ],
      "execution_count": null,
      "outputs": [
        {
          "output_type": "display_data",
          "data": {
            "image/png": "[encoded data removed]",
            "text/plain": [
              "<Figure size 432x288 with 1 Axes>"
            ]
          },
          "metadata": {
            "tags": [],
            "needs_background": "light"
          }
        }
      ]
    },
    {
      "cell_type": "code",
      "metadata": {
        "id": "UvdrNZnIx1Zy"
      },
      "source": [
        ""
      ],
      "execution_count": null,
      "outputs": []
    }
  ]
}